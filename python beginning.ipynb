{
 "cells": [
  {
   "cell_type": "code",
   "execution_count": null,
   "id": "dde4f47f",
   "metadata": {},
   "outputs": [],
   "source": [
    "\n",
    "# Python is a high-level, general-purpose programming language known for its readability and versatility. \n",
    "# It supports multiple programming paradigms, including object-oriented and functional programming, \n",
    "# and is widely used in web development, data science, machine learning, and more. \n",
    "# Python's clear syntax, extensive libraries, and large community make it a popular choice for both beginners and experienced developers. \n",
    "# In zisr we can say that we use python for its extensive libraries and simple english understability"
   ]
  },
  {
   "cell_type": "code",
   "execution_count": null,
   "id": "79c32223",
   "metadata": {},
   "outputs": [
    {
     "name": "stdout",
     "output_type": "stream",
     "text": [
      "Mainak Nandi_MaN\n"
     ]
    }
   ],
   "source": [
    "print(\"Mainak Nandi_MaN\")"
   ]
  },
  {
   "cell_type": "code",
   "execution_count": null,
   "id": "06713c72",
   "metadata": {},
   "outputs": [
    {
     "name": "stdout",
     "output_type": "stream",
     "text": [
      "actually it is a multiline code \n",
      " either you have to print it line by line \n",
      "      or you have to this i.e. you have give three quotes     \n"
     ]
    }
   ],
   "source": [
    "print('''actually it is a multiline code \n",
    " either you have to print it line by line \n",
    "      or you have to this i.e. you have give three quotes     ''')"
   ]
  },
  {
   "cell_type": "code",
   "execution_count": null,
   "id": "dcedaa0a",
   "metadata": {},
   "outputs": [],
   "source": [
    "# Module:-In Python programming, a module is a file containing Python definitions and statements. \n",
    "# Essentially, it's a way to organize related code into reusable units, promoting modularity and code reusability. \n",
    "#Examples of Module:- Flask(for web apps), django(Web frameworks),etc\n",
    "#We can install modules by 'pip' through cmd.....'pip install pyjokes'"
   ]
  },
  {
   "cell_type": "code",
   "execution_count": null,
   "id": "ad9f68c1",
   "metadata": {},
   "outputs": [
    {
     "name": "stdout",
     "output_type": "stream",
     "text": [
      "[\"Complaining about the lack of smoking shelters, the nicotine addicted Python programmers said there ought to be 'spaces for tabs'.\", 'Ubuntu users are apt to get this joke.', 'Obfuscated Reality Mappers (ORMs) can be useful database tools.', 'Asked to explain Unicode during an interview, Geoff went into detail about his final year university project. He was not hired.', \"Triumphantly, Beth removed Python 2.7 from her server in 2030. 'Finally!' she said with glee, only to see the announcement for Python 4.4.\", \"An SQL query goes into a bar, walks up to two tables and asks, 'Can I join you?'\", 'When your hammer is C++, everything begins to look like a thumb.', 'If you put a million monkeys at a million keyboards, one of them will eventually write a Java program. The rest of them will write Perl.', 'To understand recursion you must first understand recursion.', \"I suggested holding a 'Python Object Oriented Programming Seminar', but the acronym was unpopular.\", \"'Knock, knock.' 'Who's there?' ... very long pause ... 'Java.'\", \"How many programmers does it take to change a lightbulb? None, that's a hardware problem.\", \"What's the object-oriented way to become wealthy? Inheritance.\", \"Why don't jokes work in octal? Because 7 10 11.\", 'How many programmers does it take to change a lightbulb? None, they just make darkness a standard.', \"Two bytes meet. The first byte asks, 'Are you ill?' The second byte replies, 'No, just feeling a bit off.'\", \"Two threads walk into a bar. The barkeeper looks up and yells, 'Hey, I want don't any conditions race like time last!'\", \"Old C programmers don't die, they're just cast into void.\", \"Eight bytes walk into a bar. The bartender asks, 'Can I get you anything?' 'Yeah,' replies the bytes. 'Make us a double.'\", \"Why did the programmer quit his job? Because he didn't get arrays.\", \"Why do Java programmers have to wear glasses? Because they don't see sharp.\", 'Software developers like to solve problems. If there are no problems handily available, they will create their own.', \".NET was named .NET so that it wouldn't show up in a Unix directory listing.\", 'Hardware: The part of a computer that you can kick.', \"A programmer was found dead in the shower. Next to their body was a bottle of shampoo with the instructions 'Lather, Rinse and Repeat'.\", 'Optimist: The glass is half full. Pessimist: The glass is half empty. Programmer: The glass is twice as large as necessary.', 'In C we had to code our own bugs. In C++ we can inherit them.', 'How come there is no obfuscated Perl contest? Because everyone would win.', \"If you play a Windows CD backwards, you'll hear satanic chanting ... worse still, if you play it forwards, it installs Windows.\", 'How many programmers does it take to kill a cockroach? Two: one holds, the other installs Windows on it.', 'What do you call a programmer from Finland? Nerdic.', \"What did the Java code say to the C code? A: You've got no class.\", \"Why did Microsoft name their search engine BING? Because It's Not Google.\", \"Pirates go 'arg!', computer pirates go 'argv!'\", 'Software salesmen and used-car salesmen differ in that the latter know when they are lying.', \"Child: Dad, why does the sun rise in the east and set in the west? Dad: Son, it's working, don't touch it.\", 'Why do programmers confuse Halloween with Christmas? Because OCT 31 == DEC 25.', 'How many Prolog programmers does it take to change a lightbulb? false.', 'Real programmers can write assembly code in any language.', 'Waiter: Would you like coffee or tea? Programmer: Yes.', 'What do you get when you cross a cat and a dog? Cat dog sin theta.', \"If loving you is ROM I don't wanna read write.\", 'A programmer walks into a foo...', \"A programmer walks into a bar and orders 1.38 root beers. The bartender informs her it's a root beer float. She says 'Make it a double!'\", \"What is Benoit B. Mandelbrot's middle name? Benoit B. Mandelbrot.\", \"Why are you always smiling? That's just my... regular expression.\", 'ASCII stupid question, get a stupid ANSI.', \"A programmer had a problem. He thought to himself, 'I know, I'll solve it with threads!'. has Now problems. two he\", 'Why do sin and tan work? Just cos.', 'Java: Write once, run away.', 'I would tell you a joke about UDP, but you would never get it.', 'A QA engineer walks into a bar. Runs into a bar. Crawls into a bar. Dances into a bar. Tiptoes into a bar. Rams a bar. Jumps into a bar.', \"My friend's in a band called '1023 Megabytes'... They haven't got a gig yet!\", \"I had a problem so I thought I'd use Java. Now I have a ProblemFactory.\", 'QA Engineer walks into a bar. Orders a beer. Orders 0 beers. Orders 999999999 beers. Orders a lizard. Orders -1 beers. Orders a sfdeljknesv.', 'A product manager walks into a bar, asks for drink. Bartender says no, but will consider adding later.', 'How do you generate a random string? Put a first year Computer Science student in Vim and ask them to save and exit.', \"I've been using Vim for a long time now, mainly because I can't figure out how to exit.\", \"How do you know whether a person is a Vim user? Don't worry, they'll tell you.\", \"Waiter: He's choking! Is anyone a doctor? Programmer: I'm a Vim user.\", \"3 Database Admins walked into a NoSQL bar. A little while later they walked out because they couldn't find a table.\", 'How to explain the movie Inception to a programmer? When you run a VM inside another VM, inside another VM ... everything runs real slow!', 'What do you call a parrot that says \"Squawk! Pieces of nine! Pieces of nine!\"? A parrot-ey error.', 'There are only two hard problems in Computer Science: cache invalidation, naming things and off-by-one-errors.', \"There are 10 types of people: those who understand binary and those who don't.\", 'There are 2 types of people: those who can extrapolate from incomplete data sets...', \"There are II types of people: Those who understand Roman Numerals and those who don't.\", 'There are 10 types of people: those who understand hexadecimal and 15 others.', \"There are 10 types of people: those who understand binary, those who don't, and those who were expecting this joke to be in trinary.\", \"There are 10 types of people: those who understand trinary, those who don't, and those who have never heard of it.\", 'What do you call eight hobbits? A hobbyte.', 'The best thing about a Boolean is even if you are wrong, you are only off by a bit.', 'A good programmer is someone who always looks both ways before crossing a one-way street.', 'There are two ways to write error-free programs; only the third one works.', 'QAs consist of 55% water, 30% blood and 15% Jira tickets.', 'Sympathy for the Devil is really just about being nice to QAs.', \"How many QAs does it take to change a lightbulb? They noticed that the room was dark. They don't fix problems, they find them.\", 'A programmer crashes a car at the bottom of a hill, a bystander asks what happened, he says \"No idea. Let\\'s push it back up and try again\".', \"What do you mean 911 is only for emergencies? I've got a merge conflict.\", \"Writing PHP is like peeing in the swimming pool, everyone did it, but we don't need to bring it up in public.\", \"Why did the QA cross the road? To ruin everyone's day.\", 'Number of days since I have encountered an array index error: -1.', 'Number of days since I have encountered an off-by-one error: 0.', 'Speed dating is useless. 5 minutes is not enough to properly explain the benefits of the Unix philosophy.', 'Microsoft hold a bi-monthly internal \"productive week\" where they use Google instead of Bing.', \"Schrodinger's attitude to web development: If I don't look at it in Internet Explorer then there's a chance it looks fine.\", 'Finding a good PHP developer is like looking for a needle in a haystack. Or is it a hackstack in a needle?', \"Unix is user friendly. It's just very particular about who its friends are.\", 'A COBOL programmer makes millions with Y2K remediation and decides to get cryogenically frozen. \"The year is 9999. You know COBOL, right?\"', 'The C language combines all the power of assembly language with all the ease-of-use of assembly language.', 'An SEO expert walks into a bar, bars, pub, public house, Irish pub, tavern, bartender, beer, liquor, wine, alcohol, spirits...', \"What does 'Emacs' stand for? 'Exclusively used by middle aged computer scientists.'\", 'What does pyjokes have in common with Adobe Flash? It gets updated all the time, but never gets any better.', \"Why does Waldo only wear stripes? Because he doesn't want to be spotted.\", 'I went to a street where the houses were numbered 8k, 16k, 32k, 64k, 128k, 256k and 512k. It was a trip down Memory Lane.', \"!false, (It's funny because it's true)\", \"['hip', 'hip'] (hip hip array!)\", \"Programmer: The ship I boarded crashed and I am dying! Project Manager: Then let's do a quick knowledge transfer session before you go.\", 'Are you a RESTful API? because you GET my attention, PUT some love, POST the cutest smile, and DELETE my bad day.', 'I used to know a joke about Java, but I run out of memory.', 'My girlfriend dumped me after I named a class after her. She felt I treated her like an object.', 'Girl: Do you drink? Programmer: No. Girl: Have Girlfriend? Programmer: No. Girl: Then how do you enjoy life? Programmer: I am Programmer', 'A Programmer was walking out of door for work, his wife said \"while you\\'re out, buy some milk\" and he never returned.', 'A: What is your address? Me: 173.168.15.10 A: No, your local address Me: 127.0.0.1 A: I mean your physical address B: 29:01:38:62:31:58', 'Why do programmers always mix up Halloween and Christmas? Because Oct 31 equals Dec 25.', 'Programming is 10% science, 20% ingenuity, and 70% getting the ingenuity to work with the science.', 'There are three kinds of lies: Lies, damned lies, and benchmarks.', 'All programmers are playwrights, and all computers are lousy actors.', \"Have you heard about the new Cray super computer? It's so fast, it executes an infinite loop in 6 seconds.\", 'The generation of random numbers is too important to be left to chance.', 'I just saw my life flash before my eyes and all I could see was a close tag.', 'The computer is mightier than the pen, the sword, and usually, the programmer', 'Debugging: Removing the needles from the haystack.', 'If doctors were like software engineers, they would say things like Have you tried killing yourself and being reborn?', 'Debugging is like being the detective in a crime drama where you are also the murderer.', 'The best thing about a Boolean is that even if you are wrong, you are only off by a bit.', 'If you listen to a UNIX shell, can you hear the C?', \"Why do Java programmers have to wear glasses? Because they don't C#.\", 'When Apple employees die, does their life HTML5 in front of their eyes?', 'What did the router say to the doctor? It hurts when IP.', 'Learning JavaScript is like looking both ways before you cross the street, and then getting hit by an airplane.', 'I for one am excited for the days when dereferencing a null pointer causes an aneurysm.', 'Debugging is like an onion. There are multiple layers to it, and the more you peel them back.', \"When your code does not change color automatically, Something's wrong, I can feel it.\", 'I have a joke on programming but it only works on my computer.', \"Why do you always use i and j variales in loops? It's the law......\", 'As far as we know, our computer has never had an undetected error.', 'A user friendly computer first requires a friendly user.', \"Bug? That's not a bug, that's a feature.\", 'Buy a Pentium 586/200 so you can reboot faster.', \"Computer analyst to programmer: You start coding. I'll go find out what they want.\", 'Computer programmers do it byte by byte.', \"Don't compute and drive; the life you save may be your own.\", 'How an engineer writes a program: Start by debugging an empty file...', \"If at first you don't succeed, call it version 1.0.\", 'I have a dream: 1073741824 bytes free.', \"I haven't lost my mind; it's backed up on tape somewhere.\", 'Is reading in the bathroom considered Multi-Tasking.', \"Never say 'OOPS!' always say 'Ah, Interesting!'\", \"One person's error is another person's data.\", 'Press CTRL-ALT-DEL to continue....', \"Programmer's Time-Space Continuum: Programmers continuously space the time.\", 'Speed Kills! Use Windows.', \"The box said: 'install on Windows 95, NT 4.0 or better'. So I installed it on Linux.\", 'The program is absolutely right; therefore the computer must be wrong.', \"There are only 10 types of people in this world: those who understand binary, and those who don't.\", 'There were computers in Biblical times. Eve had an Apple.', 'Those who can, do. Those who cannot, teach. Those who cannot teach, HACK!', 'User error: replace user and press any key to continue.', 'Warning, keyboard not found. Press Enter to continue.', \"Why do they call this a word processor? It's simple, ... you've seen what food processors do to food, right?\", 'Why do we want intelligent terminals when there are so many stupid users?', 'Windows is NOT a virus. Viruses DO something.', 'WINDOWS stands for Will Install Needless Data On Whole System.', 'You are making progress if each mistake is a new one.', 'You had mail, but the super-user read it, and deleted it!', 'You never finish a program, you just stop working on it.', \"You don't have to know how the computer works, just how to work the computer.\", \"You forgot to do your backup 16 days ago. Tomorrow you'll need that version.\", \"I love pressing the F5 key. It's refreshing.\", 'My favourite computer based band is the Black IPs.', \"Why was the developer bankrupt? He'd used all his cache.\", \"A friend is in a band called 1023Mb. They haven't had a gig yet.\", \"Apparently my password needs to be capitals only so I've changed it to LONDONMADRIDROME\", \"I changed my password to BeefStew but the computer told me it wasn't Stroganoff.\", \"Changed my password to fortnight but apparently that's two week.\", 'Artificial intelligence usually beats real stupidity.', 'The Internet: where men are men, women are men, and children are FBI agents.', 'Bugs come in through open Windows.', \"Unix is user friendly. It's just selective about who its friends are.\", 'Failure is not an option. It comes bundled with your Microsoft product.', 'Computers are like air conditioners: they stop working when you open Windows.', 'Beware of programmers that carry screwdrivers.', \"I'm not anti-social; I'm just not user friendly.\", 'Hey! It compiles! Ship it!', \"If Ruby is not and Perl is the answer, you don't understand the question.\", \"My attitude isn't bad. It's in beta.\", 'Programmers are tools for converting caffeine into code.', \"There are three kinds of people: those who can count and those who can't.\", 'Why do programmers prefer dark mode? Because light attracts bugs.']\n"
     ]
    }
   ],
   "source": [
    "import pyjokes \n",
    "joke = pyjokes.get_jokes()\n",
    "print(joke)"
   ]
  },
  {
   "cell_type": "code",
   "execution_count": null,
   "id": "784619a6",
   "metadata": {},
   "outputs": [],
   "source": []
  },
  {
   "cell_type": "code",
   "execution_count": null,
   "id": "2fef21c2",
   "metadata": {},
   "outputs": [],
   "source": [
    "import pyttsx3\n",
    "import threading\n",
    "\n",
    "def speak(text):\n",
    "    engine = pyttsx3.init()\n",
    "    engine.say(text)\n",
    "    engine.runAndWait()\n",
    "\n",
    "threading.Thread(target=speak, args=(\"Hello, this is a text to speech example using pyttsx3 in Jupyter.\",)).start()"
   ]
  },
  {
   "cell_type": "code",
   "execution_count": null,
   "id": "8c2d1e59",
   "metadata": {},
   "outputs": [
    {
     "name": "stdout",
     "output_type": "stream",
     "text": [
      "30\n"
     ]
    }
   ],
   "source": [
    "#variable:-In Python, a variable is a symbolic name that is used to reference a value stored in memory.\n",
    "#Variables are created when you assign a value to them, and they can hold different types of data, such as numbers, strings, lists, and more.\n",
    "x = 10\n",
    "y = 20 \n",
    "print(x + y)"
   ]
  },
  {
   "cell_type": "code",
   "execution_count": null,
   "id": "ebd7b6c4",
   "metadata": {},
   "outputs": [
    {
     "name": "stdout",
     "output_type": "stream",
     "text": [
      "MY name is Mainak \n",
      "The sum of x and y is: 30\n"
     ]
    }
   ],
   "source": [
    "x = 10\n",
    "y = 20 \n",
    "z=x+y\n",
    "name = \"Mainak \"\n",
    "print(\"MY name is\", name)\n",
    "print(\"The sum of x and y is:\", z)"
   ]
  },
  {
   "cell_type": "code",
   "execution_count": null,
   "id": "c74d2489",
   "metadata": {},
   "outputs": [
    {
     "name": "stdout",
     "output_type": "stream",
     "text": [
      "The data types are\n",
      " 1 1.1 Mainak 69.7 True 69.7 1\n",
      "The data types are\n",
      " <class 'int'> <class 'float'> <class 'str'> <class 'str'> <class 'bool'> <class 'float'> <class 'str'>\n"
     ]
    }
   ],
   "source": [
    "#data types:-In Python, data types are classifications that specify the type of value a variable can hold.\n",
    "#I think you all know that well or just google it its quite same for every language\n",
    "a=1 #int\n",
    "b=1.1 #float\n",
    "c=\"Mainak\" #string\n",
    "d=\"69.7\" #string #something which is under quotes whether it is numbers or alphabets it is a str\n",
    "e=True #bool\n",
    "f=None #NoneType\n",
    "g=float(d) #converting str to float....but the type should be float\n",
    "h=str(a) #converting int to float .... as it will store the value in string format i.e. within quotes\n",
    "#this converting of datatypes is called typecasting\n",
    "print(\"The data types are\\n\", a,b,c,d,e,g,h)\n",
    "print(\"The data types are\\n\", type(a), type(b), type(c), type(d), type(e) , type(g) , type(h))"
   ]
  },
  {
   "cell_type": "code",
   "execution_count": null,
   "id": "59350fbe",
   "metadata": {},
   "outputs": [
    {
     "name": "stdout",
     "output_type": "stream",
     "text": [
      "Operators in Python are used to perform operations on variables and values \n",
      " +,-,*,/,%,/\n",
      " ==,!=,>,<,>=,<=/\n",
      " and, or, not\n",
      " =, +=, -=, *=, /=\n",
      " &, |, ^, ~, <<, >>\n",
      "\n"
     ]
    }
   ],
   "source": [
    "#operators:-In Python, operators are special symbols that perform operations on variables and values.\n",
    "# They can be classified into several categories, including arithmetic, comparison, logical, assignment, and bitwise operators.\n",
    "#examples of operators include:\n",
    "a= \"+,-,*,/,%,/\\n\"   #(arithmetic operators) \n",
    "b= \"==,!=,>,<,>=,<=/\\n\" #(comparison operators)  \n",
    "c= \"and, or, not\\n\" #(logical operators)\n",
    "d= \"=, +=, -=, *=, /=\\n\" #(assignment operators) \n",
    "e= \"&, |, ^, ~, <<, >>\\n\" #(bitwise operators)\n",
    "print(\"Operators in Python are used to perform operations on variables and values \\n\", a,b,c,d,e)"
   ]
  },
  {
   "cell_type": "code",
   "execution_count": null,
   "id": "45c54ab8",
   "metadata": {},
   "outputs": [
    {
     "name": "stdout",
     "output_type": "stream",
     "text": [
      "a is greater than b: False\n",
      "a is less than b: True\n"
     ]
    }
   ],
   "source": [
    " #comparison operators\n",
    "a = 10\n",
    "b = 20 \n",
    "print(\"a is greater than b:\", a > b)\n",
    "print(\"a is less than b:\", a < b)"
   ]
  },
  {
   "cell_type": "code",
   "execution_count": null,
   "id": "3cb99085",
   "metadata": {},
   "outputs": [
    {
     "name": "stdout",
     "output_type": "stream",
     "text": [
      "a or b: True\n",
      "a and b: False\n",
      "not a: False\n"
     ]
    }
   ],
   "source": [
    "#logical operators\n",
    "a = True\n",
    "b = False\n",
    "print(\"a or b:\", a or b)  # True if either a or b is\n",
    "print(\"a and b:\", a and b)  # True if both a and b are True\n",
    "print(\"not a:\", not a)  # True if a is False....makes the opposite of the value of a"
   ]
  },
  {
   "cell_type": "code",
   "execution_count": null,
   "id": "d48a0a45",
   "metadata": {},
   "outputs": [
    {
     "name": "stdout",
     "output_type": "stream",
     "text": [
      "The truth is  69\n"
     ]
    }
   ],
   "source": [
    "#input function:-In Python, the input() function is used to take input from the user.\n",
    "a=input(\"For eg: \") # I am gonna input \"Python\"\n",
    "b=input(\"->\") # I am gonna input \"is a high level langugae\"\n",
    "print(\"The truth is \",a+b) # So it will give \"Python is a high level langugae\" as output because it is taking the input as string and not int\n",
    "# So to convert it to int we have to do this\n",
    "#print(\"The truth is \", int (a)+int(b)) if it gives error then it is ok as the input is not a number to make it a number we have to put int before 'input'\n",
    "# or we can do this a=int(input(\"For eg: \")) same for b"
   ]
  },
  {
   "cell_type": "code",
   "execution_count": 1,
   "id": "00098d1c",
   "metadata": {},
   "outputs": [
    {
     "name": "stdout",
     "output_type": "stream",
     "text": [
      "The combining of the two numbers is: 69\n",
      "The sum of the two numbers is: 15\n"
     ]
    }
   ],
   "source": [
    "a=input(\"Enter the number: \")\n",
    "b=input(\"Enter the second number: \")\n",
    "print(\"The combining of the two numbers is:\",a+b)\n",
    "print(\"The sum of the two numbers is:\", int(a)+int(b))"
   ]
  },
  {
   "cell_type": "code",
   "execution_count": null,
   "id": "6474808d",
   "metadata": {},
   "outputs": [
    {
     "name": "stdout",
     "output_type": "stream",
     "text": [
      "The answer is: 1.0\n",
      "The remainder is: 0\n",
      "The quotient : 1\n"
     ]
    }
   ],
   "source": [
    "#take a number and divide it and give a remainder\n",
    "a = int(input(\"Enter a number: \"))  # I am gonna put 10 \n",
    "b = int(input(\"Enter a divisor: \"))  # I am gonna put 3 divisor\n",
    "print(\"The answer is:\", a/b ) #this will give the answer of the division\n",
    "print (\"The remainder is:\", a % b)  # This will give the remainder of the division\n",
    "print (\"The quotient :\", a // b) # This will give the quotient of the division"
   ]
  },
  {
   "cell_type": "code",
   "execution_count": null,
   "id": "3c0f8aac",
   "metadata": {},
   "outputs": [
    {
     "name": "stdout",
     "output_type": "stream",
     "text": [
      "The average of the three numbers is: 10.0\n"
     ]
    }
   ],
   "source": [
    "#finding average of numbers\n",
    "a = int(input(\"Enter the first number: \"))  # I am gonna put 10\n",
    "b = int(input(\"Enter the second number: \"))  # I am gonna put 20\n",
    "c = int(input(\"Enter the third number: \"))  # I am gonna put 30\n",
    "print (\"The average of the three numbers is:\", (a + b + c) / 3)  # This will give the average of the three numbers"
   ]
  },
  {
   "cell_type": "code",
   "execution_count": null,
   "id": "36fe6f0b",
   "metadata": {},
   "outputs": [
    {
     "name": "stdout",
     "output_type": "stream",
     "text": [
      "The square of the number is: 625\n"
     ]
    }
   ],
   "source": [
    "#to find the squuare of a number\n",
    "a = int(input(\"Enter a number: \"))  # I am gonna put 5\n",
    "print(\"The square of the number is:\", a ** 2)  # This will give the square of the number"
   ]
  },
  {
   "cell_type": "code",
   "execution_count": null,
   "id": "0747462b",
   "metadata": {},
   "outputs": [
    {
     "name": "stdout",
     "output_type": "stream",
     "text": [
      "The square root of the number is: 25.0\n"
     ]
    }
   ],
   "source": [
    "#to find the square root of a number\n",
    "import math # importing the math module to use the sqrt function\n",
    "a = int(input(\"Enter a number: \"))  # I am gonna put 25\n",
    "print(\"The square root of the number is:\", math.sqrt(a))  # This will give"
   ]
  },
  {
   "cell_type": "code",
   "execution_count": null,
   "id": "c628c9a1",
   "metadata": {},
   "outputs": [
    {
     "name": "stdout",
     "output_type": "stream",
     "text": [
      "The first 4 characters of the string are: \n",
      " Main\n",
      "The character of the string is: \n",
      " a\n",
      "k\n",
      "aina\n",
      "aina\n",
      "ainak\n",
      "Main\n",
      "Mia\n"
     ]
    }
   ],
   "source": [
    "#some functions of strings\n",
    "#slicing of strings\n",
    "name = \"Mainak\"  # This is a string\n",
    "nameshort = name[0:4]  # This will give the first 5 characters of the string and 4th character is not included\n",
    "print(\"The first 4 characters of the string are: \\n\", nameshort)  # This will print the first 5 characters of the string\n",
    "character = name[1]  # This will give the first character of the string like this we can print 0-M,1-a,2-i,3-n,4-a,5-k\n",
    "print( \"The character of the string is: \\n\", character)  # This will print the first character of the string\n",
    "# negative slicing of strings\n",
    "print(name[-1])  # This will print the last character of the string\n",
    "print(name[-5:-1])  # This will print the characters from 4th last to 1st last character of the string\n",
    "print(name[1:5]) # This will print the characters from 1st to 4th character of the string\n",
    "print(name[1:])  # This will print the characters from 1st to last\n",
    "print(name[:4])  # This will print the characters from 0th to 4th character of the string\n",
    "#slicing by skipping characters\n",
    "print(name[0:5:2])  # This will print the characters from 0 to 6th character of the string by skipping every 2nd character\n",
    "#first character will comne then alternate second will delete \n"
   ]
  },
  {
   "cell_type": "code",
   "execution_count": null,
   "id": "6b4b5ff3",
   "metadata": {},
   "outputs": [
    {
     "name": "stdout",
     "output_type": "stream",
     "text": [
      "The length of the string is: 6\n"
     ]
    }
   ],
   "source": [
    "#length of string\n",
    "name = \"Mainak\"  # This is a string\n",
    "print(\"The length of the string is:\", len(name))  # This will print the length"
   ]
  },
  {
   "cell_type": "code",
   "execution_count": null,
   "id": "44fe4755",
   "metadata": {},
   "outputs": [
    {
     "name": "stdout",
     "output_type": "stream",
     "text": [
      "True\n",
      "False\n",
      "The number of characters in the string is:\n",
      " 2\n",
      "The number of characters in the string is:\n",
      " 1\n",
      "Mainak\n",
      "MAINAK\n",
      "3\n",
      "Moinok\n",
      "kaniaM\n"
     ]
    }
   ],
   "source": [
    " #start and end of string\n",
    "name = \"mainak\"  # This is a string\n",
    "print(name.endswith(\"nak\"))  # will print True if the string ends with \"nak\" else False\n",
    "print(name.startswith(\"nak\"))  # will print false if the string does not start with \"nak\" else True\n",
    "#counting the number of characters in a string\n",
    "name = \"Mainak\"  # This is a string\n",
    "print(\"The number of characters in the string is:\\n\", name.count(\"a\"))  # This will print the number of times \"a\" appears in the string\n",
    "print(\"The number of characters in the string is:\\n\", name.count(\"n\"))  # This will print the number of times \"n\" appears in the string\n",
    "print (name.capitalize())  # This will capitalize the first letter of the string\n",
    "print (name.upper())  # This will convert the string to uppercase same for lower case we can use name.lower()\n",
    "#find the index of a character in a string\n",
    "print(name.find(\"n\"))  # This will print the index of the first occurrence of \"n\" in the string\n",
    "#replace a character in a string\n",
    "print(name.replace(\"a\", \"o\"))  # This will replace all occurrences of \"a\n",
    "#reverse a string\n",
    "print(name[::-1])  # This will reverse the string by slicing it from the end to the beginning\n",
    "# there are many escape sequences in python like \\n for new line, \\t for tab, \\\\ for backslash, \\' for single quote, \\\" for double quote, etc. which I have used here for more just search in chatgpt or google \"escape sequences in python\"\n",
    "#{there are many string functions here are some of them for more you can check in chatgpt or google by searching \"the most used string functions in python\"}"
   ]
  },
  {
   "cell_type": "code",
   "execution_count": null,
   "id": "f42e7754",
   "metadata": {},
   "outputs": [
    {
     "name": "stdout",
     "output_type": "stream",
     "text": [
      "Mainak is a human being\n"
     ]
    }
   ],
   "source": [
    "name=input(\"Enter your name: \")  # I am gonna put Mainak\n",
    "print(f\"{name} is a human being\")  # This will print the name of the person and say that he is a human being"
   ]
  },
  {
   "cell_type": "code",
   "execution_count": null,
   "id": "6cc031cc",
   "metadata": {},
   "outputs": [
    {
     "name": "stdout",
     "output_type": "stream",
     "text": [
      "Dear MaN,\n",
      "I am happy to inform you that you have been selected for the job.\n",
      "Thank you for your application.\n",
      "on <date>\n"
     ]
    }
   ],
   "source": [
    "letter= '''Dear <name>,\n",
    "I am happy to inform you that you have been selected for the job.\n",
    "Thank you for your application.\n",
    "on <date>'''\n",
    "# This is a letter template where we can replace <name> and <date> with the actual name and date\n",
    "name = input(\"Enter your name: \")  # I am gonna put Mainak\n",
    "date = input(\"Enter the date: \")  # I am gonna put 18th June 2025\n",
    "print(letter.replace(\"<name>\", name).replace(\"<date> \", date))  # Replacing <name> and <date> with the actual name"
   ]
  },
  {
   "cell_type": "code",
   "execution_count": null,
   "id": "f57402ec",
   "metadata": {},
   "outputs": [],
   "source": []
  },
  {
   "cell_type": "code",
   "execution_count": null,
   "id": "b7d0bf9b",
   "metadata": {},
   "outputs": [
    {
     "name": "stdout",
     "output_type": "stream",
     "text": [
      "The double spaces is found at index  9\n",
      "The triple spaces is found at index  -1\n",
      "Now it will be:\n",
      " \t Mainak is a good coder\n"
     ]
    }
   ],
   "source": [
    "#detecting double spaces in a program\n",
    "text = input(\"Enter a text: \")  # Please enter a text with double spaces\n",
    "print(\"The double spaces is found at index \", text.find (\"  \"))  # This will find the first occurrence of double spaces in the text\n",
    "#detecting triple spaces in a program\n",
    "print(\"The triple spaces is found at index \", text.find (\"   \"))  # This will find the first occurrence of triple spaces in the text\n",
    "a = input(\" Enter a character to replace double spaces with: \")  \n",
    "print(\"Now it will be:\\n \\t\", text.replace(\"  \" , f\" {a} \" )) # This will replace the double spaces with single spaces\n",
    "#or you can simply use text.replace(\"  \", \" \") to replace double spaces with single spaces"
   ]
  },
  {
   "cell_type": "code",
   "execution_count": null,
   "id": "11938a0e",
   "metadata": {},
   "outputs": [
    {
     "name": "stdout",
     "output_type": "stream",
     "text": [
      "The list of my favourite foods is:\n",
      " ['chicken biryani', 'pizza', 'burger', 'pasta', 'sushi']\n",
      "chicken biryani\n",
      "Your choice is: burger\n",
      "The updated list of my favourite foods is:\n",
      " ['chicken biryani', 'pizza', 'Dim Sum', 'Dosa', 'sushi']\n",
      "The first three in the list is:\n",
      " ['chicken biryani', 'pizza', 'Dim Sum']\n",
      "The last three in the list is:\n",
      " ['Dim Sum', 'Dosa', 'sushi']\n"
     ]
    }
   ],
   "source": [
    "#lists:-In Python, a list is a collection of items that are ordered and changeable.\n",
    "#Lists are defined by enclosing the items in square brackets [] and separating them with commas.\n",
    "#Lists can contain items of different data types, including numbers, strings, and even other lists.\n",
    "#Here is an example of a list:\n",
    "fab_foods = [\"chicken biryani\", \"pizza\", \"burger\", \"pasta\", \"sushi\",] \n",
    "print(\"The list of my favourite foods is:\\n\", fab_foods)  # This will print the list of my favourite foods\n",
    "#now I want to select one acording to my choice\n",
    "print(fab_foods[0])\n",
    "#or\n",
    "choice = int(input(\"Enter the number of your choice: \"))  # I am gonna put\n",
    "print(\"Your choice is:\", fab_foods[choice])  # This will print the food item according to the choice made by the user\n",
    "#lists can be changed\n",
    "fab_foods[2] = \"Dim Sum\"  # This will change the third item in the list to \"Dim Sum\"\n",
    "fab_foods[3] = \"Dosa\"  # This will change the fourth item in the list to \"Dosa\"\n",
    "print(\"The updated list of my favourite foods is:\\n\", fab_foods)  #so from the above code we can see that the list is mutable i.e. it can be changed unlike strings which are immutable\n",
    "#indexing of lists\n",
    "print(\"The first three in the list is:\\n\", fab_foods[:3])  # This will print the first three items in the list\n",
    "print(\"The last three in the list is:\\n\", fab_foods[-3:])"
   ]
  },
  {
   "cell_type": "code",
   "execution_count": null,
   "id": "e3882f7e",
   "metadata": {},
   "outputs": [
    {
     "name": "stdout",
     "output_type": "stream",
     "text": [
      "The sorted list of my favourite foods is:\n",
      " ['Dim Sum', 'Dosa', 'chicken biryani', 'pizza', 'sushi']\n",
      "The sorted list of numbers is:\n",
      " [49, 59, 69, 79, 89]\n",
      "['sushi', 'pizza', 'chicken biryani', 'Dosa', 'Dim Sum']\n",
      "[89, 79, 69, 59, 49]\n"
     ]
    }
   ],
   "source": [
    "#sorting of lists\n",
    "fab_foods.sort()  # This will sort the list in alphabetical order\n",
    "print(\"The sorted list of my favourite foods is:\\n\", fab_foods)  # This will print the sorted list of my favourite foods\n",
    "no= [59,49,69,89,79]  # This is a list of numbers\n",
    "no.sort()  # This will sort the list in ascending order\n",
    "print(\"The sorted list of numbers is:\\n\", no)  # This will print the sorted list of numbers\n",
    "#reversing a list\n",
    "fab_foods.reverse()  # This will reverse the list   \n",
    "no.reverse()  # This will reverse the list of numbers\n",
    "print(fab_foods) # as it is sorted so it is giving the reverse of the sorted list\n",
    "print(no)"
   ]
  },
  {
   "cell_type": "code",
   "execution_count": null,
   "id": "bdf8c947",
   "metadata": {},
   "outputs": [
    {
     "name": "stdout",
     "output_type": "stream",
     "text": [
      "[90, 80, 29, 70, 60, 50]\n",
      "[90, 80, 29, 70, 50]\n",
      "[90, 80, 70, 50]\n"
     ]
    }
   ],
   "source": [
    "#inserting items in a list\n",
    "marks = [90, 80, 70, 60, 50]  # This is a list of marks\n",
    "marks.insert(2, 29)  # This will add \"29\" to the\n",
    "print( marks)  # This will print the updated list of marks\n",
    "#deleting items in a list\n",
    "marks.remove(60)  # This will remove \"29\" from the list \n",
    "print(marks)  # This will print the updated list of marks after removing \"29\"\n",
    "#pop function in a list\n",
    "marks.pop(2)  # This will remove the item at index 2 from the list \n",
    "print(marks)  # This will print the updated list of marks after removing the item at index 2\n",
    "#there are many functions in lists like append, extend, clear, copy, count, index, etc. which I have not used here but you can check them out in chatgpt or google by searching \"the most used list functions in python\""
   ]
  },
  {
   "cell_type": "code",
   "execution_count": null,
   "id": "e8d0693c",
   "metadata": {},
   "outputs": [
    {
     "name": "stdout",
     "output_type": "stream",
     "text": [
      "('MaN', 18, 6, 2004, False, None, 21.1)\n",
      "1\n",
      "7\n",
      "4\n",
      "2004\n",
      "('MaN', 18, 6)\n"
     ]
    }
   ],
   "source": [
    "#tuples:-In Python, a tuple is a collection of items that are ordered and unchangeable.\n",
    "#Tuples are defined by enclosing the items in parentheses () and separating them with commas.   \n",
    "#Tuples can contain items of different data types, including numbers, strings, and even other tuples.\n",
    "#Here is an example of a tuple:\n",
    "myself_tuple =(\"MaN\",18 , 6 , 2004,False, None, 21.1)\n",
    "print( myself_tuple)  # This will count the number of times \"18\" appears in the tuple\n",
    "myself_tuple.count(18) #This will count the number of times \"18\" appears in the tuple\n",
    "print( myself_tuple.count(18))  # This will print the count of \"18\" in the tuple\n",
    "print(len(myself_tuple))  # This will print the length of the tuple\n",
    "#indexing of tuples\n",
    "print(myself_tuple.index(False))  # This will give the index of the first occurrence of \"False\" in the tuple\n",
    "print(myself_tuple[3])  # This will print the first item in the tuple\n",
    "print(myself_tuple[0:3])  # This will print the first three items in the tuple\n",
    "#for these cases of tuples also there are many functions like length, index, count, etc. which I have not used here but you can check them out in chatgpt or google by searching \"the most used tuple functions in python\""
   ]
  },
  {
   "cell_type": "code",
   "execution_count": null,
   "id": "84b09d0c",
   "metadata": {},
   "outputs": [
    {
     "name": "stdout",
     "output_type": "stream",
     "text": [
      "marks are: [12, 17, 40]\n",
      "69\n"
     ]
    }
   ],
   "source": [
    "#make a tuple of marks of students given by user\n",
    "marks = []  # This will create an empty list to store the marks of the students\n",
    "m1 = int(input(\"Enter the marks \")) \n",
    "marks.append(m1)  # This will add the marks to the list\n",
    "m2 = int(input(\"Enter the marks \"))\n",
    "marks.append(m2)  # This will add the marks to the list\n",
    "m3 = int(input(\"Enter the marks \"))\n",
    "marks.append(m3)  # This will add the marks to the list\n",
    "#sorting the marks\n",
    "marks.sort()  # This will sort the list of marks in ascending order\n",
    "print(\"marks are:\", marks)  # This will print the list of marks\n",
    "#adding the marks inside a tuple\n",
    "print(sum(marks))  # This will print the sum of the marks"
   ]
  },
  {
   "cell_type": "code",
   "execution_count": null,
   "id": "f3cc1e93",
   "metadata": {},
   "outputs": [
    {
     "name": "stdout",
     "output_type": "stream",
     "text": [
      "The number of times 'M' appears in the tuple is:\n",
      " 7 4\n"
     ]
    }
   ],
   "source": [
    "#to count how many times M are there in our tuple\n",
    "my_tuple = (\"M\", \"m\", \"M\", \"m\", \"M\", \"M\", \"M\", \"m\", \"M\", \"m\", \"M\" )\n",
    "M= my_tuple.count(\"M\") # This will count the number of times \"M\" appears in the tuple\n",
    "m= my_tuple.count(\"m\") # This will count the number of times \"m\" appears in the tuple\n",
    "print(\"The number of times 'M' appears in the tuple is:\\n\", M , m)  # This will print the count of \"M\" in the tuple"
   ]
  },
  {
   "cell_type": "code",
   "execution_count": null,
   "id": "480fbdc3",
   "metadata": {},
   "outputs": [
    {
     "name": "stdout",
     "output_type": "stream",
     "text": [
      "The dictionary is:\n",
      " {'name': 'Mainak', 'age': 21, 'city': 'Kolkata', 'hobbies': ['coding', 'workout', 'gaming'], 0: 'zero', 'is_married': False}\n",
      "Kolkata\n"
     ]
    }
   ],
   "source": [
    "#dictionaries:-In Python, a dictionary is a collection of key-value pairs that are unordered and changeable.\n",
    "#Dictionaries are defined by enclosing the key-value pairs in curly braces {} and separating them with commas.\n",
    "#Here is an example of a dictionary:\n",
    "my_dict = {\n",
    "    \"name\": \"Mainak\",\n",
    "    \"age\": 21,\n",
    "    \"city\": \"Kolkata\",\n",
    "    \"hobbies\": [\"coding\", \"workout\", \"gaming\"], # list inside a dictionary\n",
    "     00: \"zero\",  # integer key with string value\n",
    "    \"is_married\": False,  # boolean key with boolean value\n",
    "}\n",
    "print(\"The dictionary is:\\n\", my_dict)  # This will print the dictionary\n",
    "print(my_dict[\"city\"])  # This will print the value of the key \"name\" in the dictionary   "
   ]
  },
  {
   "cell_type": "code",
   "execution_count": null,
   "id": "0da7b005",
   "metadata": {},
   "outputs": [
    {
     "name": "stdout",
     "output_type": "stream",
     "text": [
      "dict_keys(['name', 'age', 'hobbies', 0, 'is_married', 'country', 'city'])\n",
      "dict_values(['Mainak', 21, ['coding', 'workout', 'gaming'], 'zero', False, 'India', 'Geneva'])\n",
      "dict_items([('name', 'Mainak'), ('age', 21), ('hobbies', ['coding', 'workout', 'gaming']), (0, 'zero'), ('is_married', False), ('country', 'India'), ('city', 'Geneva')])\n",
      "None\n",
      "21\n",
      "21\n"
     ]
    }
   ],
   "source": [
    "#methods of dictionaries\n",
    "print(my_dict.keys())  # This will print the keys of the dictionary\n",
    "print(my_dict.values())  # This will print the values of the dictionary\n",
    "print(my_dict.items())  # This will print the key-value pairs of the dictionary\n",
    "print(my_dict.update({\"city\" : \"Geneva\"}))  # This will update the value of the key \"city\" in the dictionary to \"Delhi\"\n",
    "print(my_dict.get(\"age\"))  # This will print the updated dictionary after updating the value of the key \"city\"\n",
    "print(my_dict[\"age\"]) # This will print the value of the key \"age\" in the dictionary\n",
    "#so the main difference between the get and the [] is that if the key is not present in the dictionary then get will return None but [] will give an error\n",
    "#adding a new key-value pair to the dictionary\n",
    "my_dict[\"country\"] = \"India\"  # This will add a new key-value pair\n",
    "#print(my_dict.pop(\"city\"))  # This will remove the key \"city\" from the dictionary and return its value\n",
    "#so there are many functions in dictionaries like pop, popitem, clear, copy, fromkeys, setdefault, etc. which I have not used here but you can check them out in chatgpt or google by searching \"the most used dictionary functions in python\""
   ]
  },
  {
   "cell_type": "code",
   "execution_count": null,
   "id": "cb693bd1",
   "metadata": {},
   "outputs": [
    {
     "name": "stdout",
     "output_type": "stream",
     "text": [
      "A device that allows current to flow in one direction only\n"
     ]
    }
   ],
   "source": [
    "#some dictionaries problems \n",
    "elements = { \"resistor\": \"A device that resists the flow of electric current\",\n",
    "            \"capacitor\": \"A device that stores electrical energy in an electric field\",\n",
    "            \"inductor\": \"A device that stores electrical energy in a magnetic field\",\n",
    "            \"diode\": \"A device that allows current to flow in one direction only\",\n",
    "\n",
    "}\n",
    "name_element = input(\"Enter the name of the element: \")  # I am gonna put \"resistor\"\n",
    "print(elements[name_element])"
   ]
  },
  {
   "cell_type": "code",
   "execution_count": null,
   "id": "cc6156e9",
   "metadata": {},
   "outputs": [
    {
     "name": "stdout",
     "output_type": "stream",
     "text": [
      "The dictionary of friends and their favourite dishes is:\n",
      " {'Mainak ': 'Ice cream', 'Manjot': 'Lassi'}\n"
     ]
    }
   ],
   "source": [
    "#create an empty dictionary to allow 4 friends to enter their favourite dish names as values and use keys as their names.\n",
    "friends_dishes = {}  # This will create an empty dictionary to store the names and their favourite dishes\n",
    "range(2)  # This will allow 4 friends to enter their favourite dish names\n",
    "for _ in range(2):  # Looping 4 times to allow 4 friends\n",
    "    name = input(\"Enter the name of your friend: \")  # I am gonna put \"Mainak\"\n",
    "    dish = input(\"Enter the favourite dish of your friend: \")  # I am gonna put \"Biryani\"\n",
    "    friends_dishes[name] = dish  # This will add the name and its favourite dish to the dictionary\n",
    "print(\"The dictionary of friends and their favourite dishes is:\\n\", friends_dishes)  # This will print the dictionary of friends and their favourite dishes"
   ]
  },
  {
   "cell_type": "code",
   "execution_count": null,
   "id": "77bfd38d",
   "metadata": {},
   "outputs": [
    {
     "name": "stdout",
     "output_type": "stream",
     "text": [
      "The set is:\n",
      " {'apple', 'cherry', 'grapes'}\n"
     ]
    }
   ],
   "source": [
    "#sets:-In Python, a set is a collection of unique items that are unordered and unchangeable.\n",
    "#Sets are defined by enclosing the items in curly braces {} and separating them with commas.\n",
    "#Here is an example of a set:\n",
    "s={\"apple\", \"grapes\", \"cherry\", \"apple\"}  # This is a set with duplicate items\n",
    "print(\"The set is:\\n\", s)  # This will print the set"
   ]
  },
  {
   "cell_type": "code",
   "execution_count": null,
   "id": "b312b431",
   "metadata": {},
   "outputs": [
    {
     "name": "stdout",
     "output_type": "stream",
     "text": [
      "The set after adding banana is:\n",
      " {'apple', 'banana', 'cherry', 'grapes'}\n",
      "The set after removing apple is:\n",
      " {'banana', 'cherry', 'grapes'}\n",
      "The union of the two sets is:\n",
      " {'cherry', 'banana', 'orange', 'grapes', 'kiwi'}\n",
      "The intersection of the two sets is:\n",
      " {'banana'}\n",
      "The difference of the two sets is:\n",
      " {'grapes', 'cherry'}\n"
     ]
    }
   ],
   "source": [
    "#methods of sets to add , remove  , union and intersection\n",
    "s.add(\"banana\")  # This will add \"banana\" to the set\n",
    "print(\"The set after adding banana is:\\n\", s)  # This will print the set after adding \"banana\"\n",
    "s.remove(\"apple\")  # This will remove \"apple\" from the set\n",
    "print(\"The set after removing apple is:\\n\", s)  # This will print the set after removing \"apple\"\n",
    "q={\"orange\", \"kiwi\", \"banana\"}  # This is another set\n",
    "print(\"The union of the two sets is:\\n\", s.union(q))  # This will print the union of the two sets\n",
    "print(\"The intersection of the two sets is:\\n\", s.intersection(q))  # This will print the intersection of the two sets\n",
    "print(\"The difference of the two sets is:\\n\", s.difference(q))  # This will print the difference of the two sets"
   ]
  },
  {
   "cell_type": "code",
   "execution_count": null,
   "id": "05049f56",
   "metadata": {},
   "outputs": [
    {
     "name": "stdout",
     "output_type": "stream",
     "text": [
      "You can have a pizza evry month\n"
     ]
    }
   ],
   "source": [
    "#conditional expressions:-In Python, conditional expressions are used to execute a block of code based on a condition.\n",
    "#They are often used with if, elif, and else statements to control the flow of the program.\n",
    "#all conditional expression are ended with a colon (:) and the code block that follows is indented.\n",
    "#Here is an example of a conditional expression:\n",
    "a=int(input(\"Enter your pocket money \"))  \n",
    "if a >=1000:\n",
    "    print(\"You can have a pizza evry month\") #you can see the space created by the if statement is called indentation\n",
    "else:\n",
    "    print(\"You have to survive on momo every month\")\n"
   ]
  },
  {
   "cell_type": "code",
   "execution_count": null,
   "id": "47e52675",
   "metadata": {},
   "outputs": [
    {
     "name": "stdout",
     "output_type": "stream",
     "text": [
      "You can have a pizza every month\n",
      "Thank you for using the program\n"
     ]
    }
   ],
   "source": [
    "#now we will do a elif statement\n",
    "a = int(input(\"Enter your pocket money \"))\n",
    "if a >= 1000:\n",
    "    print(\"You can have a pizza every month\")\n",
    "elif a >= 800:\n",
    "    print(\"You can have a burger every month\")\n",
    "elif a >= 500:\n",
    "    print(\"You can have to survive on momo every month\")\n",
    "else:\n",
    "    print(\"You have to bring your own food to college\")\n",
    "print (\"Thank you for using the program\")  # This will print a thank you message after the program ends\n",
    "\n",
    "#relational operators are to mention condition in if statements like >, <, >=, <=, ==, !=\n",
    "#logical operators are used to combine multiple conditions like \n",
    "# and (when both conditions are true),\n",
    "# or  (when at least one condition is true),\n",
    "# not (when the condition is false)"
   ]
  },
  {
   "cell_type": "code",
   "execution_count": 34,
   "id": "e9b38283",
   "metadata": {},
   "outputs": [
    {
     "name": "stdout",
     "output_type": "stream",
     "text": [
      "You are eligible to vote\n",
      "You are not eligible to drink alcohol\n",
      "Thank you for the input\n"
     ]
    }
   ],
   "source": [
    "#nested if statements are used to check multiple conditions\n",
    "#for example:\n",
    "a = int(input(\"Enter your age: \"))  # I am gonna put 18\n",
    "if a >= 18:\n",
    "    print(\"You are eligible to vote\")\n",
    "    if a >= 21:\n",
    "        print(\"You are eligible to drink alcohol\")\n",
    "    else:\n",
    "        print(\"You are not eligible to drink alcohol\")\n",
    "print(\"Thank you for the input\")  # This will print a thank you message after the program ends"
   ]
  },
  {
   "cell_type": "code",
   "execution_count": 35,
   "id": "853af85d",
   "metadata": {},
   "outputs": [
    {
     "name": "stdout",
     "output_type": "stream",
     "text": [
      "The greatest number is: 32\n"
     ]
    }
   ],
   "source": [
    "#to see greatest of the numbers entered by user\n",
    "a = int(input(\"Enter the first number: \"))  # I am gonna put 10\n",
    "b = int(input(\"Enter the second number: \"))  # I am gonna put 20\n",
    "c = int(input(\"Enter the third number: \"))  # I am gonna put 30\n",
    "if a > b and a > c:\n",
    "    print(\"The greatest number is:\", a) \n",
    "elif b > a and b > c:\n",
    "    print(\"The greatest number is:\", b)\n",
    "elif c > a and c > b:\n",
    "    print(\"The greatest number is:\", c)\n",
    "    "
   ]
  },
  {
   "cell_type": "code",
   "execution_count": null,
   "id": "3b87fa17",
   "metadata": {},
   "outputs": [
    {
     "name": "stdout",
     "output_type": "stream",
     "text": [
      "The price of product 1 after discount is: 630.0\n",
      "The price of product 2 after discount is: 560.0\n",
      "The price of product 3 after discount is: 420.0\n"
     ]
    }
   ],
   "source": [
    "#write a prgram to check discounts on a certain product if it above certain figure it has 60% to atleast 30% discount and if it is below that figure then it has no discount. Asume three products and price from user as input\n",
    "product1 = float(input(\"Enter the price of product 1: \"))  # I am gonna put 1500\n",
    "product2 = float(input(\"Enter the price of product 2: \"))  # I am gonna put 2000\n",
    "product3 = float(input(\"Enter the price of product 3: \"))  # I am gonna put 2500        \n",
    "if product1 > 1000:\n",
    "    print(\"The price of product 1 after discount is:\", product1 * 0.4)  # 60% discount  \n",
    "else:\n",
    "    print(\"The price of product 1 after discount is:\", product1 * 0.7)\n",
    "if product2 > 1000:\n",
    "    print(\"The price of product 2 after discount is:\", product2 * 0.4)  # 60% discount\n",
    "else:\n",
    "    print(\"The price of product 2 after discount is:\", product2 * 0.7)\n",
    "if product3 > 1000:\n",
    "    print(\"The price of product 3 after discount is:\", product3 * 0.4)  # 60% discount\n",
    "else:\n",
    "    print(\"The price of product 3 after discount is:\", product3 * 0.7)"
   ]
  },
  {
   "cell_type": "code",
   "execution_count": 38,
   "id": "b3f6b259",
   "metadata": {},
   "outputs": [
    {
     "name": "stdout",
     "output_type": "stream",
     "text": [
      "The post is not about Mainak\n"
     ]
    }
   ],
   "source": [
    "#let's see a code to find a given post is taking about \"Mainak\" or not \n",
    "post = input(\"Enter the post: \")  \n",
    "if \"Mainak\" in post: \n",
    "    print(\"The post is about Mainak\")\n",
    "else:\n",
    "    print(\"The post is not about Mainak\")   \n",
    "#I have done this to show you the use of 'in' operator in python which is used to check if a value is present in a list, tuple, set, or string\n",
    "#actually the code is to let you know that if else also occurs for string case too "
   ]
  },
  {
   "cell_type": "code",
   "execution_count": 33,
   "id": "abbfd0ec",
   "metadata": {},
   "outputs": [
    {
     "name": "stdout",
     "output_type": "stream",
     "text": [
      "You have a pizza every month.\n",
      "Thank you for using the program.\n"
     ]
    }
   ],
   "source": [
    "pocket_money = int(input(\"Enter your pocket money: \"))  # e.g. 1000\n",
    "\n",
    "if pocket_money >= 1000:\n",
    "    food_type = input(\"Are you a vegetarian or non-vegetarian? (v/n): \").lower()\n",
    "    if food_type == \"v\":\n",
    "        print(\"You have a veg burger every month.\")\n",
    "    elif food_type == \"n\":\n",
    "        print(\"You have a pizza every month.\")\n",
    "    else:\n",
    "        print(\"Invalid input. Please enter 'v' or 'n'.\")\n",
    "\n",
    "elif pocket_money >= 800:\n",
    "    food_type = input(\"Are you a vegetarian or non-vegetarian? (v/n): \").lower()\n",
    "    if food_type == \"v\":\n",
    "        print(\"You have a veg burger every month.\")\n",
    "    elif food_type == \"n\":\n",
    "        print(\"You have a chicken burger every month.\")\n",
    "    else:\n",
    "        print(\"Invalid input. Please enter 'v' or 'n'.\")\n",
    "\n",
    "elif pocket_money >= 500:\n",
    "    food_type = input(\"Are you a vegetarian or non-vegetarian? (v/n): \").lower()\n",
    "    if food_type == \"v\":\n",
    "        print(\"You have a veg sandwich every month.\")\n",
    "    elif food_type == \"n\":\n",
    "        print(\"You have to survive on momos every month.\")\n",
    "    else:\n",
    "        print(\"Invalid input. Please enter 'v' or 'n'.\")\n",
    "\n",
    "elif pocket_money >= 200:\n",
    "    food_type = input(\"Are you a vegetarian or non-vegetarian? (v/n): \").lower()\n",
    "    if food_type == \"v\":\n",
    "        print(\"You have to survive on an empty stomach every month.\")\n",
    "    elif food_type == \"n\":\n",
    "        print(\"You have to survive on cold drinks every month.\")\n",
    "    else:\n",
    "        print(\"Invalid input. Please enter 'v' or 'n'.\")\n",
    "\n",
    "else:\n",
    "    print(\"You have to bring your own food to college.\")\n",
    "\n",
    "print(\"Thank you for using the program.\")\n",
    "# see this code after a function the function module is over"
   ]
  },
  {
   "cell_type": "code",
   "execution_count": null,
   "id": "66f6f971",
   "metadata": {},
   "outputs": [
    {
     "name": "stdout",
     "output_type": "stream",
     "text": [
      "0\n",
      "1\n",
      "2\n",
      "3\n",
      "4\n",
      "0\n",
      "1\n",
      "2\n",
      "3\n",
      "4\n"
     ]
    }
   ],
   "source": [
    "#loops:-In Python, loops are used to execute a block of code repeatedly until a certain condition is met.\n",
    "#There are two main types of loops in Python: for loops and while loops.\n",
    "#for loops are used to iterate over a sequence (like a list, tuple, or string) or a range of numbers.\n",
    "#while loops are used to execute a block of code as long as a condition is true.\n",
    "#both the loops are ended with a colon (:) and the code block inside the loop is indented.\n",
    "#for loop example\n",
    "for i in range(5):  # This will print the numbers from 0 to 4\n",
    "    print(i)  # This will print the value of i in each iteration\n",
    "#while loop example\n",
    "i = 0  # Initializing the variable i\n",
    "while i < 5:  # This will run the loop as long as i is less than 5\n",
    "    print(i)  # This will print the value of i in each iteration\n",
    "    i += 1  # Incrementing the value of i by 1 in each iteration\n"
   ]
  },
  {
   "cell_type": "code",
   "execution_count": 5,
   "id": "95188659",
   "metadata": {},
   "outputs": [
    {
     "name": "stdout",
     "output_type": "stream",
     "text": [
      "Hello, Mainak!\n",
      "Hello, Nandi!\n",
      "Hello, MaN!\n"
     ]
    }
   ],
   "source": [
    "for i in range(3):  # This will run the loop 3 times\n",
    "    name = input(\"Enter your name: \")  # I am gonna put \"Mainak\"\n",
    "    print(f\"Hello, {name}!\")  # This will print a greeting message with the name entered by the user"
   ]
  },
  {
   "cell_type": "code",
   "execution_count": 17,
   "id": "a51b2519",
   "metadata": {},
   "outputs": [
    {
     "name": "stdout",
     "output_type": "stream",
     "text": [
      "Hello, Mainak!\n",
      "Hello, Nandi!\n",
      "Hello, MaN!\n"
     ]
    }
   ],
   "source": [
    "i=0\n",
    "while i<3 : # This will run the loop 3 times\n",
    "    name = input(\"Enter your name: \") # I am gonna put \"Mainak\"\n",
    "    print(f\"Hello, {name}!\")  # This will print a greeting message with the name entered by the user\n",
    "    i+=1  # Incrementing the value of i by 1 in each iteration"
   ]
  },
  {
   "cell_type": "code",
   "execution_count": 9,
   "id": "3a51c9a2",
   "metadata": {},
   "outputs": [
    {
     "name": "stdout",
     "output_type": "stream",
     "text": [
      "Mainak 0\n",
      "Mainak 1\n",
      "Mainak 2\n"
     ]
    }
   ],
   "source": [
    "i=0\n",
    "while i < 3:  # This will run the loop 3 times\n",
    "    print(f\"Mainak\", i)  # This will print a greeting message with the\n",
    "    i+=1  # Incrementing the value of i by 1 in each iteration"
   ]
  },
  {
   "cell_type": "code",
   "execution_count": 7,
   "id": "fb6556d9",
   "metadata": {},
   "outputs": [
    {
     "name": "stdout",
     "output_type": "stream",
     "text": [
      "Mainak 0\n",
      "Mainak 1\n",
      "Mainak 2\n"
     ]
    }
   ],
   "source": [
    "for i in range(3): # This will run the loop 3 times\n",
    "    print(f\"Mainak\", i)  # This will print a greeting message with the name entered by the user"
   ]
  },
  {
   "cell_type": "code",
   "execution_count": 27,
   "id": "40fab104",
   "metadata": {},
   "outputs": [
    {
     "name": "stdout",
     "output_type": "stream",
     "text": [
      "1\n",
      "Mainak\n",
      "1.1\n",
      "False\n",
      "None\n"
     ]
    }
   ],
   "source": [
    "#have to print a list through while loop \n",
    "l=[1,\"Mainak\",\"1.1\",False,None]\n",
    "i=0\n",
    "while (i < len(l)):\n",
    " print(l[i])\n",
    " i+=1"
   ]
  },
  {
   "cell_type": "code",
   "execution_count": 33,
   "id": "362ba1aa",
   "metadata": {},
   "outputs": [
    {
     "name": "stdout",
     "output_type": "stream",
     "text": [
      "1\n",
      "Mainak\n",
      "1.1\n",
      "False\n",
      "None\n"
     ]
    }
   ],
   "source": [
    "l=[1,\"Mainak\",\"1.1\",False,None]\n",
    "i=0\n",
    "for i in range(5):\n",
    " print(l[i])\n",
    " i+=1"
   ]
  },
  {
   "cell_type": "code",
   "execution_count": null,
   "id": "17ff6bad",
   "metadata": {},
   "outputs": [
    {
     "name": "stdout",
     "output_type": "stream",
     "text": [
      "Mainak\n",
      "False\n"
     ]
    }
   ],
   "source": [
    "l=[1,\"Mainak\",\"1.1\",False,None]\n",
    "i=0\n",
    "for i in range(1,4,2): # this is done to show that the excution will start from 1 and stop in 4 with step size 2\n",
    " print(l[i])\n",
    " i+=1"
   ]
  },
  {
   "cell_type": "code",
   "execution_count": 43,
   "id": "214ad639",
   "metadata": {},
   "outputs": [
    {
     "name": "stdout",
     "output_type": "stream",
     "text": [
      "M\n",
      "A\n",
      "I\n",
      "N\n",
      "A\n",
      "K\n",
      "\tDone\n"
     ]
    }
   ],
   "source": [
    "m=\"MAINAK\"\n",
    "for i in m:\n",
    "    print(i)\n",
    "else:\n",
    "    print(\"\\tDone\")"
   ]
  },
  {
   "cell_type": "code",
   "execution_count": 9,
   "id": "c298986b",
   "metadata": {},
   "outputs": [
    {
     "name": "stdout",
     "output_type": "stream",
     "text": [
      "0\n",
      "1\n",
      "2\n",
      "3\n",
      "4\n",
      "5\n",
      "6\n",
      "7\n",
      "8\n"
     ]
    }
   ],
   "source": [
    "#give an example of break statement \n",
    "for i in range(10):\n",
    "    if(i==9):\n",
    "      break #used to exit the loop right now\n",
    "    print(i)"
   ]
  },
  {
   "cell_type": "code",
   "execution_count": null,
   "id": "7f9a5be4",
   "metadata": {},
   "outputs": [
    {
     "name": "stdout",
     "output_type": "stream",
     "text": [
      "0\n",
      "1\n",
      "2\n",
      "3\n",
      "4\n",
      "5\n",
      "7\n",
      "8\n",
      "9\n"
     ]
    }
   ],
   "source": [
    "#continue statements\n",
    "for i in range(10):\n",
    "    if i == 6:\n",
    "        continue #it skips the given data and executes the remaining\n",
    "    print(i)\n"
   ]
  },
  {
   "cell_type": "code",
   "execution_count": null,
   "id": "dfe8c242",
   "metadata": {},
   "outputs": [
    {
     "name": "stdout",
     "output_type": "stream",
     "text": [
      "1\n",
      "Mainak\n",
      "1.1\n",
      "False\n",
      "None\n"
     ]
    }
   ],
   "source": [
    "#pass statements\n",
    "for i in range(45):\n",
    "    pass #it is used to stop a past action and sho wthe latest ones\n",
    "\n",
    "\n",
    "l=[1,\"Mainak\",\"1.1\",False,None]\n",
    "i=0\n",
    "while (i < len(l)):\n",
    " print(l[i])\n",
    " i+=1\n",
    "\n",
    "\n"
   ]
  },
  {
   "cell_type": "code",
   "execution_count": 31,
   "id": "424fae85",
   "metadata": {},
   "outputs": [
    {
     "name": "stdout",
     "output_type": "stream",
     "text": [
      "19 X 0=0\n",
      "19 X 1=19\n",
      "19 X 2=38\n",
      "19 X 3=57\n",
      "19 X 4=76\n",
      "19 X 5=95\n",
      "19 X 6=114\n",
      "19 X 7=133\n",
      "19 X 8=152\n",
      "19 X 9=171\n",
      "19 X 10=190\n"
     ]
    }
   ],
   "source": [
    "#printing the table of 19\n",
    "n=int(input(\"Enter a number for multiplication\"))\n",
    "for i in range (0,11):\n",
    "    print(f\"{n} X {i}={n*i}\")"
   ]
  },
  {
   "cell_type": "code",
   "execution_count": null,
   "id": "b652e08c",
   "metadata": {},
   "outputs": [
    {
     "name": "stdout",
     "output_type": "stream",
     "text": [
      "19 X 0=0\n",
      "19 X 1=19\n",
      "19 X 2=38\n",
      "19 X 3=57\n",
      "19 X 4=76\n",
      "19 X 5=95\n",
      "19 X 6=114\n",
      "19 X 7=133\n",
      "19 X 8=152\n",
      "19 X 9=171\n",
      "19 X 10=190\n"
     ]
    }
   ],
   "source": [
    "#printing the table of 19 by while loop\n",
    "i=0\n",
    "n=int(input(\"Enter a number for multiplication\"))\n",
    "while i <=10:\n",
    "    print(f\"{n} X {i}={n*i}\")\n",
    "    i+=1"
   ]
  },
  {
   "cell_type": "code",
   "execution_count": 32,
   "id": "adfbdad1",
   "metadata": {},
   "outputs": [
    {
     "name": "stdout",
     "output_type": "stream",
     "text": [
      "Mainak\n",
      "Mercury\n"
     ]
    }
   ],
   "source": [
    "#to check whether there is any M name person in the list\n",
    "l=[\"Priyank\",\"monty\",\"manoj\",\"Mainak\",\"Mercury\"]\n",
    "for name in l:\n",
    "    if name.startswith(\"M\"):\n",
    "        print (name)\n",
    "      "
   ]
  },
  {
   "cell_type": "code",
   "execution_count": 56,
   "id": "8ba5a7db",
   "metadata": {},
   "outputs": [
    {
     "name": "stdout",
     "output_type": "stream",
     "text": [
      "The number is odd.\n",
      "The number is not prime.\n"
     ]
    }
   ],
   "source": [
    "n = int(input(\"Enter a number: \"))\n",
    "\n",
    "# Check if even or odd\n",
    "if n % 2 == 0:\n",
    "    print(\"The number is even.\")\n",
    "else:\n",
    "    print(\"The number is odd.\")\n",
    "\n",
    "# Check if prime\n",
    "if n > 1:\n",
    "    for i in range(2, n):\n",
    "        if n % i == 0:\n",
    "            print(\"The number is not prime.\")\n",
    "            break\n",
    "    else:\n",
    "        print(\"The number is prime.\")\n",
    "else:\n",
    "    print(\"The number is not prime.\")\n"
   ]
  },
  {
   "cell_type": "code",
   "execution_count": 64,
   "id": "c42d7131",
   "metadata": {},
   "outputs": [
    {
     "name": "stdout",
     "output_type": "stream",
     "text": [
      "55\n"
     ]
    }
   ],
   "source": [
    "#sum of n natural numbers using while loop\n",
    "n=int(input(\"No of values to enter\"))\n",
    "i=0\n",
    "sum=0\n",
    "while(i<=n):\n",
    "    sum+=i\n",
    "    i+=1\n",
    "print (sum)"
   ]
  },
  {
   "cell_type": "code",
   "execution_count": 66,
   "id": "506680f8",
   "metadata": {},
   "outputs": [
    {
     "name": "stdout",
     "output_type": "stream",
     "text": [
      "24\n"
     ]
    }
   ],
   "source": [
    "#factorial of a number\n",
    "n=int(input(\"Enter the number\"))\n",
    "product=1\n",
    "for i in range(1,n+1):\n",
    " product = product*i\n",
    "print(product)"
   ]
  },
  {
   "cell_type": "code",
   "execution_count": null,
   "id": "768e4daa",
   "metadata": {},
   "outputs": [],
   "source": [
    "#"
   ]
  }
 ],
 "metadata": {
  "kernelspec": {
   "display_name": "Python 3",
   "language": "python",
   "name": "python3"
  },
  "language_info": {
   "codemirror_mode": {
    "name": "ipython",
    "version": 3
   },
   "file_extension": ".py",
   "mimetype": "text/x-python",
   "name": "python",
   "nbconvert_exporter": "python",
   "pygments_lexer": "ipython3",
   "version": "3.12.4"
  }
 },
 "nbformat": 4,
 "nbformat_minor": 5
}
