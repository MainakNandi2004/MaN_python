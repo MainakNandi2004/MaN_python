{
 "cells": [
  {
   "cell_type": "code",
   "execution_count": null,
   "id": "dde4f47f",
   "metadata": {},
   "outputs": [],
   "source": [
    "\n",
    "# Python is a high-level, general-purpose programming language known for its readability and versatility. \n",
    "# It supports multiple programming paradigms, including object-oriented and functional programming, \n",
    "# and is widely used in web development, data science, machine learning, and more. \n",
    "# Python's clear syntax, extensive libraries, and large community make it a popular choice for both beginners and experienced developers. \n",
    "# In zisr we can say that we use python for its extensive libraries and simple english understability"
   ]
  },
  {
   "cell_type": "code",
   "execution_count": 1,
   "id": "79c32223",
   "metadata": {},
   "outputs": [
    {
     "name": "stdout",
     "output_type": "stream",
     "text": [
      "Mainak Nandi_MaN\n"
     ]
    }
   ],
   "source": [
    "print(\"Mainak Nandi_MaN\")"
   ]
  },
  {
   "cell_type": "code",
   "execution_count": 5,
   "id": "06713c72",
   "metadata": {},
   "outputs": [
    {
     "name": "stdout",
     "output_type": "stream",
     "text": [
      "actually it is a multiline code \n",
      " either you have to print it line by line \n",
      "      or you have to this i.e. you have give three quotes     \n"
     ]
    }
   ],
   "source": [
    "print('''actually it is a multiline code \n",
    " either you have to print it line by line \n",
    "      or you have to this i.e. you have give three quotes     ''')"
   ]
  },
  {
   "cell_type": "code",
   "execution_count": null,
   "id": "dcedaa0a",
   "metadata": {},
   "outputs": [],
   "source": [
    "# Module:-In Python programming, a module is a file containing Python definitions and statements. \n",
    "# Essentially, it's a way to organize related code into reusable units, promoting modularity and code reusability. \n",
    "#Examples of Module:- Flask(for web apps), django(Web frameworks),etc\n",
    "#We can install modules by 'pip' through cmd.....'pip install pyjokes'"
   ]
  },
  {
   "cell_type": "code",
   "execution_count": 6,
   "id": "ad9f68c1",
   "metadata": {},
   "outputs": [
    {
     "name": "stdout",
     "output_type": "stream",
     "text": [
      "[\"Complaining about the lack of smoking shelters, the nicotine addicted Python programmers said there ought to be 'spaces for tabs'.\", 'Ubuntu users are apt to get this joke.', 'Obfuscated Reality Mappers (ORMs) can be useful database tools.', 'Asked to explain Unicode during an interview, Geoff went into detail about his final year university project. He was not hired.', \"Triumphantly, Beth removed Python 2.7 from her server in 2030. 'Finally!' she said with glee, only to see the announcement for Python 4.4.\", \"An SQL query goes into a bar, walks up to two tables and asks, 'Can I join you?'\", 'When your hammer is C++, everything begins to look like a thumb.', 'If you put a million monkeys at a million keyboards, one of them will eventually write a Java program. The rest of them will write Perl.', 'To understand recursion you must first understand recursion.', \"I suggested holding a 'Python Object Oriented Programming Seminar', but the acronym was unpopular.\", \"'Knock, knock.' 'Who's there?' ... very long pause ... 'Java.'\", \"How many programmers does it take to change a lightbulb? None, that's a hardware problem.\", \"What's the object-oriented way to become wealthy? Inheritance.\", \"Why don't jokes work in octal? Because 7 10 11.\", 'How many programmers does it take to change a lightbulb? None, they just make darkness a standard.', \"Two bytes meet. The first byte asks, 'Are you ill?' The second byte replies, 'No, just feeling a bit off.'\", \"Two threads walk into a bar. The barkeeper looks up and yells, 'Hey, I want don't any conditions race like time last!'\", \"Old C programmers don't die, they're just cast into void.\", \"Eight bytes walk into a bar. The bartender asks, 'Can I get you anything?' 'Yeah,' replies the bytes. 'Make us a double.'\", \"Why did the programmer quit his job? Because he didn't get arrays.\", \"Why do Java programmers have to wear glasses? Because they don't see sharp.\", 'Software developers like to solve problems. If there are no problems handily available, they will create their own.', \".NET was named .NET so that it wouldn't show up in a Unix directory listing.\", 'Hardware: The part of a computer that you can kick.', \"A programmer was found dead in the shower. Next to their body was a bottle of shampoo with the instructions 'Lather, Rinse and Repeat'.\", 'Optimist: The glass is half full. Pessimist: The glass is half empty. Programmer: The glass is twice as large as necessary.', 'In C we had to code our own bugs. In C++ we can inherit them.', 'How come there is no obfuscated Perl contest? Because everyone would win.', \"If you play a Windows CD backwards, you'll hear satanic chanting ... worse still, if you play it forwards, it installs Windows.\", 'How many programmers does it take to kill a cockroach? Two: one holds, the other installs Windows on it.', 'What do you call a programmer from Finland? Nerdic.', \"What did the Java code say to the C code? A: You've got no class.\", \"Why did Microsoft name their search engine BING? Because It's Not Google.\", \"Pirates go 'arg!', computer pirates go 'argv!'\", 'Software salesmen and used-car salesmen differ in that the latter know when they are lying.', \"Child: Dad, why does the sun rise in the east and set in the west? Dad: Son, it's working, don't touch it.\", 'Why do programmers confuse Halloween with Christmas? Because OCT 31 == DEC 25.', 'How many Prolog programmers does it take to change a lightbulb? false.', 'Real programmers can write assembly code in any language.', 'Waiter: Would you like coffee or tea? Programmer: Yes.', 'What do you get when you cross a cat and a dog? Cat dog sin theta.', \"If loving you is ROM I don't wanna read write.\", 'A programmer walks into a foo...', \"A programmer walks into a bar and orders 1.38 root beers. The bartender informs her it's a root beer float. She says 'Make it a double!'\", \"What is Benoit B. Mandelbrot's middle name? Benoit B. Mandelbrot.\", \"Why are you always smiling? That's just my... regular expression.\", 'ASCII stupid question, get a stupid ANSI.', \"A programmer had a problem. He thought to himself, 'I know, I'll solve it with threads!'. has Now problems. two he\", 'Why do sin and tan work? Just cos.', 'Java: Write once, run away.', 'I would tell you a joke about UDP, but you would never get it.', 'A QA engineer walks into a bar. Runs into a bar. Crawls into a bar. Dances into a bar. Tiptoes into a bar. Rams a bar. Jumps into a bar.', \"My friend's in a band called '1023 Megabytes'... They haven't got a gig yet!\", \"I had a problem so I thought I'd use Java. Now I have a ProblemFactory.\", 'QA Engineer walks into a bar. Orders a beer. Orders 0 beers. Orders 999999999 beers. Orders a lizard. Orders -1 beers. Orders a sfdeljknesv.', 'A product manager walks into a bar, asks for drink. Bartender says no, but will consider adding later.', 'How do you generate a random string? Put a first year Computer Science student in Vim and ask them to save and exit.', \"I've been using Vim for a long time now, mainly because I can't figure out how to exit.\", \"How do you know whether a person is a Vim user? Don't worry, they'll tell you.\", \"Waiter: He's choking! Is anyone a doctor? Programmer: I'm a Vim user.\", \"3 Database Admins walked into a NoSQL bar. A little while later they walked out because they couldn't find a table.\", 'How to explain the movie Inception to a programmer? When you run a VM inside another VM, inside another VM ... everything runs real slow!', 'What do you call a parrot that says \"Squawk! Pieces of nine! Pieces of nine!\"? A parrot-ey error.', 'There are only two hard problems in Computer Science: cache invalidation, naming things and off-by-one-errors.', \"There are 10 types of people: those who understand binary and those who don't.\", 'There are 2 types of people: those who can extrapolate from incomplete data sets...', \"There are II types of people: Those who understand Roman Numerals and those who don't.\", 'There are 10 types of people: those who understand hexadecimal and 15 others.', \"There are 10 types of people: those who understand binary, those who don't, and those who were expecting this joke to be in trinary.\", \"There are 10 types of people: those who understand trinary, those who don't, and those who have never heard of it.\", 'What do you call eight hobbits? A hobbyte.', 'The best thing about a Boolean is even if you are wrong, you are only off by a bit.', 'A good programmer is someone who always looks both ways before crossing a one-way street.', 'There are two ways to write error-free programs; only the third one works.', 'QAs consist of 55% water, 30% blood and 15% Jira tickets.', 'Sympathy for the Devil is really just about being nice to QAs.', \"How many QAs does it take to change a lightbulb? They noticed that the room was dark. They don't fix problems, they find them.\", 'A programmer crashes a car at the bottom of a hill, a bystander asks what happened, he says \"No idea. Let\\'s push it back up and try again\".', \"What do you mean 911 is only for emergencies? I've got a merge conflict.\", \"Writing PHP is like peeing in the swimming pool, everyone did it, but we don't need to bring it up in public.\", \"Why did the QA cross the road? To ruin everyone's day.\", 'Number of days since I have encountered an array index error: -1.', 'Number of days since I have encountered an off-by-one error: 0.', 'Speed dating is useless. 5 minutes is not enough to properly explain the benefits of the Unix philosophy.', 'Microsoft hold a bi-monthly internal \"productive week\" where they use Google instead of Bing.', \"Schrodinger's attitude to web development: If I don't look at it in Internet Explorer then there's a chance it looks fine.\", 'Finding a good PHP developer is like looking for a needle in a haystack. Or is it a hackstack in a needle?', \"Unix is user friendly. It's just very particular about who its friends are.\", 'A COBOL programmer makes millions with Y2K remediation and decides to get cryogenically frozen. \"The year is 9999. You know COBOL, right?\"', 'The C language combines all the power of assembly language with all the ease-of-use of assembly language.', 'An SEO expert walks into a bar, bars, pub, public house, Irish pub, tavern, bartender, beer, liquor, wine, alcohol, spirits...', \"What does 'Emacs' stand for? 'Exclusively used by middle aged computer scientists.'\", 'What does pyjokes have in common with Adobe Flash? It gets updated all the time, but never gets any better.', \"Why does Waldo only wear stripes? Because he doesn't want to be spotted.\", 'I went to a street where the houses were numbered 8k, 16k, 32k, 64k, 128k, 256k and 512k. It was a trip down Memory Lane.', \"!false, (It's funny because it's true)\", \"['hip', 'hip'] (hip hip array!)\", \"Programmer: The ship I boarded crashed and I am dying! Project Manager: Then let's do a quick knowledge transfer session before you go.\", 'Are you a RESTful API? because you GET my attention, PUT some love, POST the cutest smile, and DELETE my bad day.', 'I used to know a joke about Java, but I run out of memory.', 'My girlfriend dumped me after I named a class after her. She felt I treated her like an object.', 'Girl: Do you drink? Programmer: No. Girl: Have Girlfriend? Programmer: No. Girl: Then how do you enjoy life? Programmer: I am Programmer', 'A Programmer was walking out of door for work, his wife said \"while you\\'re out, buy some milk\" and he never returned.', 'A: What is your address? Me: 173.168.15.10 A: No, your local address Me: 127.0.0.1 A: I mean your physical address B: 29:01:38:62:31:58', 'Why do programmers always mix up Halloween and Christmas? Because Oct 31 equals Dec 25.', 'Programming is 10% science, 20% ingenuity, and 70% getting the ingenuity to work with the science.', 'There are three kinds of lies: Lies, damned lies, and benchmarks.', 'All programmers are playwrights, and all computers are lousy actors.', \"Have you heard about the new Cray super computer? It's so fast, it executes an infinite loop in 6 seconds.\", 'The generation of random numbers is too important to be left to chance.', 'I just saw my life flash before my eyes and all I could see was a close tag.', 'The computer is mightier than the pen, the sword, and usually, the programmer', 'Debugging: Removing the needles from the haystack.', 'If doctors were like software engineers, they would say things like Have you tried killing yourself and being reborn?', 'Debugging is like being the detective in a crime drama where you are also the murderer.', 'The best thing about a Boolean is that even if you are wrong, you are only off by a bit.', 'If you listen to a UNIX shell, can you hear the C?', \"Why do Java programmers have to wear glasses? Because they don't C#.\", 'When Apple employees die, does their life HTML5 in front of their eyes?', 'What did the router say to the doctor? It hurts when IP.', 'Learning JavaScript is like looking both ways before you cross the street, and then getting hit by an airplane.', 'I for one am excited for the days when dereferencing a null pointer causes an aneurysm.', 'Debugging is like an onion. There are multiple layers to it, and the more you peel them back.', \"When your code does not change color automatically, Something's wrong, I can feel it.\", 'I have a joke on programming but it only works on my computer.', \"Why do you always use i and j variales in loops? It's the law......\", 'As far as we know, our computer has never had an undetected error.', 'A user friendly computer first requires a friendly user.', \"Bug? That's not a bug, that's a feature.\", 'Buy a Pentium 586/200 so you can reboot faster.', \"Computer analyst to programmer: You start coding. I'll go find out what they want.\", 'Computer programmers do it byte by byte.', \"Don't compute and drive; the life you save may be your own.\", 'How an engineer writes a program: Start by debugging an empty file...', \"If at first you don't succeed, call it version 1.0.\", 'I have a dream: 1073741824 bytes free.', \"I haven't lost my mind; it's backed up on tape somewhere.\", 'Is reading in the bathroom considered Multi-Tasking.', \"Never say 'OOPS!' always say 'Ah, Interesting!'\", \"One person's error is another person's data.\", 'Press CTRL-ALT-DEL to continue....', \"Programmer's Time-Space Continuum: Programmers continuously space the time.\", 'Speed Kills! Use Windows.', \"The box said: 'install on Windows 95, NT 4.0 or better'. So I installed it on Linux.\", 'The program is absolutely right; therefore the computer must be wrong.', \"There are only 10 types of people in this world: those who understand binary, and those who don't.\", 'There were computers in Biblical times. Eve had an Apple.', 'Those who can, do. Those who cannot, teach. Those who cannot teach, HACK!', 'User error: replace user and press any key to continue.', 'Warning, keyboard not found. Press Enter to continue.', \"Why do they call this a word processor? It's simple, ... you've seen what food processors do to food, right?\", 'Why do we want intelligent terminals when there are so many stupid users?', 'Windows is NOT a virus. Viruses DO something.', 'WINDOWS stands for Will Install Needless Data On Whole System.', 'You are making progress if each mistake is a new one.', 'You had mail, but the super-user read it, and deleted it!', 'You never finish a program, you just stop working on it.', \"You don't have to know how the computer works, just how to work the computer.\", \"You forgot to do your backup 16 days ago. Tomorrow you'll need that version.\", \"I love pressing the F5 key. It's refreshing.\", 'My favourite computer based band is the Black IPs.', \"Why was the developer bankrupt? He'd used all his cache.\", \"A friend is in a band called 1023Mb. They haven't had a gig yet.\", \"Apparently my password needs to be capitals only so I've changed it to LONDONMADRIDROME\", \"I changed my password to BeefStew but the computer told me it wasn't Stroganoff.\", \"Changed my password to fortnight but apparently that's two week.\", 'Artificial intelligence usually beats real stupidity.', 'The Internet: where men are men, women are men, and children are FBI agents.', 'Bugs come in through open Windows.', \"Unix is user friendly. It's just selective about who its friends are.\", 'Failure is not an option. It comes bundled with your Microsoft product.', 'Computers are like air conditioners: they stop working when you open Windows.', 'Beware of programmers that carry screwdrivers.', \"I'm not anti-social; I'm just not user friendly.\", 'Hey! It compiles! Ship it!', \"If Ruby is not and Perl is the answer, you don't understand the question.\", \"My attitude isn't bad. It's in beta.\", 'Programmers are tools for converting caffeine into code.', \"There are three kinds of people: those who can count and those who can't.\", 'Why do programmers prefer dark mode? Because light attracts bugs.']\n"
     ]
    }
   ],
   "source": [
    "import pyjokes \n",
    "joke = pyjokes.get_jokes()\n",
    "print(joke)"
   ]
  },
  {
   "cell_type": "code",
   "execution_count": null,
   "id": "784619a6",
   "metadata": {},
   "outputs": [],
   "source": []
  },
  {
   "cell_type": "code",
   "execution_count": 19,
   "id": "2fef21c2",
   "metadata": {},
   "outputs": [
    {
     "name": "stderr",
     "output_type": "stream",
     "text": [
      "Exception in thread Thread-17 (speak):\n",
      "Traceback (most recent call last):\n",
      "  File \"c:\\Users\\MAINAK NANDI\\AppData\\Local\\Programs\\Python\\Python312\\Lib\\threading.py\", line 1073, in _bootstrap_inner\n",
      "    self.run()\n",
      "  File \"C:\\Users\\MAINAK NANDI\\AppData\\Roaming\\Python\\Python312\\site-packages\\ipykernel\\ipkernel.py\", line 766, in run_closure\n",
      "    _threading_Thread_run(self)\n",
      "  File \"c:\\Users\\MAINAK NANDI\\AppData\\Local\\Programs\\Python\\Python312\\Lib\\threading.py\", line 1010, in run\n"
     ]
    },
    {
     "name": "stderr",
     "output_type": "stream",
     "text": [
      "    self._target(*self._args, **self._kwargs)\n",
      "  File \"C:\\Users\\MAINAK NANDI\\AppData\\Local\\Temp\\ipykernel_13068\\4263775925.py\", line 7, in speak\n",
      "  File \"c:\\Users\\MAINAK NANDI\\AppData\\Local\\Programs\\Python\\Python312\\Lib\\site-packages\\pyttsx3\\engine.py\", line 180, in runAndWait\n",
      "    raise RuntimeError('run loop already started')\n",
      "RuntimeError: run loop already started\n"
     ]
    }
   ],
   "source": [
    "import pyttsx3\n",
    "import threading\n",
    "\n",
    "def speak(text):\n",
    "    engine = pyttsx3.init()\n",
    "    engine.say(text)\n",
    "    engine.runAndWait()\n",
    "\n",
    "threading.Thread(target=speak, args=(\"Hello, this is a text to speech example using pyttsx3 in Jupyter.\",)).start()"
   ]
  },
  {
   "cell_type": "code",
   "execution_count": 2,
   "id": "8c2d1e59",
   "metadata": {},
   "outputs": [
    {
     "name": "stdout",
     "output_type": "stream",
     "text": [
      "30\n"
     ]
    }
   ],
   "source": [
    "#variable:-In Python, a variable is a symbolic name that is used to reference a value stored in memory.\n",
    "#Variables are created when you assign a value to them, and they can hold different types of data, such as numbers, strings, lists, and more.\n",
    "x = 10\n",
    "y = 20 \n",
    "print(x + y)"
   ]
  },
  {
   "cell_type": "code",
   "execution_count": 6,
   "id": "ebd7b6c4",
   "metadata": {},
   "outputs": [
    {
     "name": "stdout",
     "output_type": "stream",
     "text": [
      "MY name is Mainak \n",
      "The sum of x and y is: 30\n"
     ]
    }
   ],
   "source": [
    "x = 10\n",
    "y = 20 \n",
    "z=x+y\n",
    "name = \"Mainak \"\n",
    "print(\"MY name is\", name)\n",
    "print(\"The sum of x and y is:\", z)"
   ]
  },
  {
   "cell_type": "code",
   "execution_count": null,
   "id": "c74d2489",
   "metadata": {},
   "outputs": [
    {
     "name": "stdout",
     "output_type": "stream",
     "text": [
      "The data types are\n",
      " 1 1.1 Mainak 69.7 True 69.7 1\n",
      "The data types are\n",
      " <class 'int'> <class 'float'> <class 'str'> <class 'str'> <class 'bool'> <class 'float'> <class 'str'>\n"
     ]
    }
   ],
   "source": [
    "#data types:-In Python, data types are classifications that specify the type of value a variable can hold.\n",
    "#I think you all know that well or just google it its quite same for every language\n",
    "a=1 #int\n",
    "b=1.1 #float\n",
    "c=\"Mainak\" #string\n",
    "d=\"69.7\" #string #something which is under quotes whether it is numbers or alphabets it is a str\n",
    "e=True #bool\n",
    "f=None #NoneType\n",
    "g=float(d) #converting str to float....but the type should be float\n",
    "h=str(a) #converting int to float .... as it will store the value in string format i.e. within quotes\n",
    "#this converting of datatypes is called typecasting\n",
    "print(\"The data types are\\n\", a,b,c,d,e,g,h)\n",
    "print(\"The data types are\\n\", type(a), type(b), type(c), type(d), type(e) , type(g) , type(h))"
   ]
  },
  {
   "cell_type": "code",
   "execution_count": 34,
   "id": "59350fbe",
   "metadata": {},
   "outputs": [
    {
     "name": "stdout",
     "output_type": "stream",
     "text": [
      "Operators in Python are used to perform operations on variables and values \n",
      " +,-,*,/,%,/\n",
      " ==,!=,>,<,>=,<=/\n",
      " and, or, not\n",
      " =, +=, -=, *=, /=\n",
      " &, |, ^, ~, <<, >>\n",
      "\n"
     ]
    }
   ],
   "source": [
    "#operators:-In Python, operators are special symbols that perform operations on variables and values.\n",
    "# They can be classified into several categories, including arithmetic, comparison, logical, assignment, and bitwise operators.\n",
    "#examples of operators include:\n",
    "a= \"+,-,*,/,%,/\\n\"   #(arithmetic operators)\n",
    "b= \"==,!=,>,<,>=,<=/\\n\" #(comparison operators)  \n",
    "c= \"and, or, not\\n\" #(logical operators)\n",
    "d= \"=, +=, -=, *=, /=\\n\" #(assignment operators) \n",
    "e= \"&, |, ^, ~, <<, >>\\n\" #(bitwise operators)\n",
    "print(\"Operators in Python are used to perform operations on variables and values \\n\", a,b,c,d,e)"
   ]
  },
  {
   "cell_type": "code",
   "execution_count": null,
   "id": "45c54ab8",
   "metadata": {},
   "outputs": [
    {
     "name": "stdout",
     "output_type": "stream",
     "text": [
      "a is greater than b: False\n",
      "a is less than b: True\n",
      "a is equal to b: False\n"
     ]
    }
   ],
   "source": [
    " #comparison operators\n",
    "a = 10\n",
    "b = 20 \n",
    "print(\"a is greater than b:\", a > b)\n",
    "print(\"a is less than b:\", a < b)"
   ]
  },
  {
   "cell_type": "code",
   "execution_count": null,
   "id": "3cb99085",
   "metadata": {},
   "outputs": [
    {
     "name": "stdout",
     "output_type": "stream",
     "text": [
      "a or b: True\n",
      "a and b: False\n",
      "not a: False\n"
     ]
    }
   ],
   "source": [
    "#logical operators\n",
    "a = True\n",
    "b = False\n",
    "print(\"a or b:\", a or b)  # True if either a or b is\n",
    "print(\"a and b:\", a and b)  # True if both a and b are True\n",
    "print(\"not a:\", not a)  # True if a is False....makes the opposite of the value of a"
   ]
  },
  {
   "cell_type": "code",
   "execution_count": 57,
   "id": "d3d6b3e7",
   "metadata": {},
   "outputs": [
    {
     "name": "stdout",
     "output_type": "stream",
     "text": [
      "The sum of the two numbers is: 69\n",
      "The sum of the two numbers is: 15\n"
     ]
    }
   ],
   "source": [
    "#input function:-In Python, the input() function is used to take input from the user.\n",
    "a=input(\"Enter the number: \") #I am gonna put 6\n",
    "b=input(\"Enter the second number: \") #I am gonna put 9\n",
    "print(\"The sum of the two numbers is:\",a+b) \n",
    "#So it will give 69 as output because it is taking the input as string and not int\n",
    "#So to convert it to int we have to do this\n",
    "print(\"The sum of the two numbers is:\",int(a)+int(b)) \n",
    "#or we can do this a=int(input(\"Enter the number: \")) same for b\n",
    "#or we can do this a=float(input(\"Enter the number: \")) same for b"
   ]
  },
  {
   "cell_type": "code",
   "execution_count": 65,
   "id": "d48a0a45",
   "metadata": {},
   "outputs": [
    {
     "name": "stdout",
     "output_type": "stream",
     "text": [
      "The truth is  Mainak is a bad coder\n"
     ]
    }
   ],
   "source": [
    "a=input(\"For eg: \") # I am gonna input \"Python\"\n",
    "b=input(\"->\") # I am gonna input \"is a high level langugae\"\n",
    "print(\"The truth is \",a+b) # So it will give \"Python is a high level langugae\" as output because it is taking the input as string and not int\n",
    "# So to convert it to int we have to do this\n",
    "#print(\"The truth is \", int (a)+int(b)) if it gives error then it is ok as the input is not a number to make it a number we have to put int before 'input'\n",
    "# or we can do this a=int(input(\"For eg: \")) same for b"
   ]
  },
  {
   "cell_type": "code",
   "execution_count": null,
   "id": "6474808d",
   "metadata": {},
   "outputs": [
    {
     "name": "stdout",
     "output_type": "stream",
     "text": [
      "The answer is: 1.0\n",
      "The remainder is: 0\n",
      "The quotient : 1\n"
     ]
    }
   ],
   "source": [
    "#take a number and divide it and give a remainder\n",
    "a = int(input(\"Enter a number: \"))  # I am gonna put 10 \n",
    "b = int(input(\"Enter a divisor: \"))  # I am gonna put 3 divisor\n",
    "print(\"The answer is:\", a/b ) #this will give the answer of the division\n",
    "print (\"The remainder is:\", a % b)  # This will give the remainder of the division\n",
    "print (\"The quotient :\", a // b) # This will give the quotient of the division"
   ]
  },
  {
   "cell_type": "code",
   "execution_count": 12,
   "id": "3c0f8aac",
   "metadata": {},
   "outputs": [
    {
     "name": "stdout",
     "output_type": "stream",
     "text": [
      "The average of the three numbers is: 10.0\n"
     ]
    }
   ],
   "source": [
    "#finding average of numbers\n",
    "a = int(input(\"Enter the first number: \"))  # I am gonna put 10\n",
    "b = int(input(\"Enter the second number: \"))  # I am gonna put 20\n",
    "c = int(input(\"Enter the third number: \"))  # I am gonna put 30\n",
    "print (\"The average of the three numbers is:\", (a + b + c) / 3)  # This will give the average of the three numbers"
   ]
  },
  {
   "cell_type": "code",
   "execution_count": 13,
   "id": "36fe6f0b",
   "metadata": {},
   "outputs": [
    {
     "name": "stdout",
     "output_type": "stream",
     "text": [
      "The square of the number is: 625\n"
     ]
    }
   ],
   "source": [
    "#to find the squuare of a number\n",
    "a = int(input(\"Enter a number: \"))  # I am gonna put 5\n",
    "print(\"The square of the number is:\", a ** 2)  # This will give the square of the number"
   ]
  },
  {
   "cell_type": "code",
   "execution_count": null,
   "id": "0747462b",
   "metadata": {},
   "outputs": [
    {
     "name": "stdout",
     "output_type": "stream",
     "text": [
      "The square root of the number is: 25.0\n"
     ]
    }
   ],
   "source": [
    "#to find the square root of a number\n",
    "import math # importing the math module to use the sqrt function\n",
    "a = int(input(\"Enter a number: \"))  # I am gonna put 25\n",
    "print(\"The square root of the number is:\", math.sqrt(a))  # This will give"
   ]
  },
  {
   "cell_type": "code",
   "execution_count": null,
   "id": "c628c9a1",
   "metadata": {},
   "outputs": [
    {
     "name": "stdout",
     "output_type": "stream",
     "text": [
      "The first 4 characters of the string are: \n",
      " Main\n",
      "The character of the string is: \n",
      " a\n",
      "k\n",
      "aina\n",
      "aina\n",
      "ainak\n",
      "Main\n",
      "Mia\n"
     ]
    }
   ],
   "source": [
    "#some functions of strings\n",
    "#slicing of strings\n",
    "name = \"Mainak\"  # This is a string\n",
    "nameshort = name[0:4]  # This will give the first 5 characters of the string and 4th character is not included\n",
    "print(\"The first 4 characters of the string are: \\n\", nameshort)  # This will print the first 5 characters of the string\n",
    "character = name[1]  # This will give the first character of the string like this we can print 0-M,1-a,2-i,3-n,4-a,5-k\n",
    "print( \"The character of the string is: \\n\", character)  # This will print the first character of the string\n",
    "# negative slicing of strings\n",
    "print(name[-1])  # This will print the last character of the string\n",
    "print(name[-5:-1])  # This will print the characters from 4th last to 1st last character of the string\n",
    "print(name[1:5]) # This will print the characters from 1st to 4th character of the string\n",
    "print(name[1:])  # This will print the characters from 1st to last\n",
    "print(name[:4])  # This will print the characters from 0th to 4th character of the string\n",
    "#slicing by skipping characters\n",
    "print(name[0:5:2])  # This will print the characters from 0 to 6th character of the string by skipping every 2nd character\n",
    "#first character will comne then alternate second will delete \n"
   ]
  },
  {
   "cell_type": "code",
   "execution_count": 42,
   "id": "6b4b5ff3",
   "metadata": {},
   "outputs": [
    {
     "name": "stdout",
     "output_type": "stream",
     "text": [
      "The length of the string is: 6\n"
     ]
    }
   ],
   "source": [
    "#length of string\n",
    "name = \"Mainak\"  # This is a string\n",
    "print(\"The length of the string is:\", len(name))  # This will print the length"
   ]
  },
  {
   "cell_type": "code",
   "execution_count": 58,
   "id": "44fe4755",
   "metadata": {},
   "outputs": [
    {
     "name": "stdout",
     "output_type": "stream",
     "text": [
      "True\n",
      "False\n",
      "The number of characters in the string is:\n",
      " 2\n",
      "The number of characters in the string is:\n",
      " 1\n",
      "Mainak\n",
      "MAINAK\n",
      "3\n",
      "Moinok\n",
      "kaniaM\n"
     ]
    }
   ],
   "source": [
    " #start and end of string\n",
    "name = \"mainak\"  # This is a string\n",
    "print(name.endswith(\"nak\"))  # will print True if the string ends with \"nak\" else False\n",
    "print(name.startswith(\"nak\"))  # will print false if the string does not start with \"nak\" else True\n",
    "#counting the number of characters in a string\n",
    "name = \"Mainak\"  # This is a string\n",
    "print(\"The number of characters in the string is:\\n\", name.count(\"a\"))  # This will print the number of times \"a\" appears in the string\n",
    "print(\"The number of characters in the string is:\\n\", name.count(\"n\"))  # This will print the number of times \"n\" appears in the string\n",
    "print (name.capitalize())  # This will capitalize the first letter of the string\n",
    "print (name.upper())  # This will convert the string to uppercase same for lower case we can use name.lower()\n",
    "#find the index of a character in a string\n",
    "print(name.find(\"n\"))  # This will print the index of the first occurrence of \"n\" in the string\n",
    "#replace a character in a string\n",
    "print(name.replace(\"a\", \"o\"))  # This will replace all occurrences of \"a\n",
    "#reverse a string\n",
    "print(name[::-1])  # This will reverse the string by slicing it from the end to the beginning\n",
    "# there are many escape sequences in python like \\n for new line, \\t for tab, \\\\ for backslash, \\' for single quote, \\\" for double quote, etc. which I have used here for more just search in chatgpt or google \"escape sequences in python\"\n",
    "#{there are many string functions here are some of them for more you can check in chatgpt or google by searching \"the most used string functions in python\"}"
   ]
  },
  {
   "cell_type": "code",
   "execution_count": 1,
   "id": "f42e7754",
   "metadata": {},
   "outputs": [
    {
     "name": "stdout",
     "output_type": "stream",
     "text": [
      "Mainak is a human being\n"
     ]
    }
   ],
   "source": [
    "name=input(\"Enter your name: \")  # I am gonna put Mainak\n",
    "print(f\"{name} is a human being\")  # This will print the name of the person and say that he is a human being"
   ]
  },
  {
   "cell_type": "code",
   "execution_count": 3,
   "id": "6cc031cc",
   "metadata": {},
   "outputs": [
    {
     "name": "stdout",
     "output_type": "stream",
     "text": [
      "Dear MaN,\n",
      "I am happy to inform you that you have been selected for the job.\n",
      "Thank you for your application.\n",
      "on <date>\n"
     ]
    }
   ],
   "source": [
    "letter= '''Dear <name>,\n",
    "I am happy to inform you that you have been selected for the job.\n",
    "Thank you for your application.\n",
    "on <date>'''\n",
    "# This is a letter template where we can replace <name> and <date> with the actual name and date\n",
    "name = input(\"Enter your name: \")  # I am gonna put Mainak\n",
    "date = input(\"Enter the date: \")  # I am gonna put 18th June 2025\n",
    "print(letter.replace(\"<name>\", name).replace(\"<date> \", date))  # Replacing <name> and <date> with the actual name"
   ]
  },
  {
   "cell_type": "code",
   "execution_count": null,
   "id": "f57402ec",
   "metadata": {},
   "outputs": [],
   "source": []
  },
  {
   "cell_type": "code",
   "execution_count": null,
   "id": "b7d0bf9b",
   "metadata": {},
   "outputs": [
    {
     "name": "stdout",
     "output_type": "stream",
     "text": [
      "The double spaces is found at index  9\n",
      "The triple spaces is found at index  -1\n",
      "Now it will be:\n",
      " Mainak is a good coder\n"
     ]
    }
   ],
   "source": [
    "#detecting double spaces in a program\n",
    "text = input(\"Enter a text: \")  # Please enter a text with double spaces\n",
    "print(\"The double spaces is found at index \", text.find (\"  \"))  # This will find the first occurrence of double spaces in the text\n",
    "#detecting triple spaces in a program\n",
    "print(\"The triple spaces is found at index \", text.find (\"   \"))  # This will find the first occurrence of triple spaces in the text\n",
    "a = input(\" Enter a character to replace double spaces with: \")  \n",
    "print(\"Now it will be:\\n\", text.replace(\"  \" , f\" {a} \" )) # This will replace the double spaces with single spaces\n",
    "#or you can simply use text.replace(\"  \", \" \") to replace double spaces with single spaces"
   ]
  }
 ],
 "metadata": {
  "kernelspec": {
   "display_name": "Python 3",
   "language": "python",
   "name": "python3"
  },
  "language_info": {
   "codemirror_mode": {
    "name": "ipython",
    "version": 3
   },
   "file_extension": ".py",
   "mimetype": "text/x-python",
   "name": "python",
   "nbconvert_exporter": "python",
   "pygments_lexer": "ipython3",
   "version": "3.12.4"
  }
 },
 "nbformat": 4,
 "nbformat_minor": 5
}
